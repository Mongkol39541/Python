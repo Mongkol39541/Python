{
 "cells": [
  {
   "cell_type": "code",
   "execution_count": 12,
   "metadata": {},
   "outputs": [],
   "source": [
    "import pandas as pd"
   ]
  },
  {
   "cell_type": "code",
   "execution_count": 13,
   "metadata": {},
   "outputs": [
    {
     "name": "stdout",
     "output_type": "stream",
     "text": [
      "(67889, 5)\n"
     ]
    },
    {
     "data": {
      "text/html": [
       "<div>\n",
       "<style scoped>\n",
       "    .dataframe tbody tr th:only-of-type {\n",
       "        vertical-align: middle;\n",
       "    }\n",
       "\n",
       "    .dataframe tbody tr th {\n",
       "        vertical-align: top;\n",
       "    }\n",
       "\n",
       "    .dataframe thead th {\n",
       "        text-align: right;\n",
       "    }\n",
       "</style>\n",
       "<table border=\"1\" class=\"dataframe\">\n",
       "  <thead>\n",
       "    <tr style=\"text-align: right;\">\n",
       "      <th></th>\n",
       "      <th>url</th>\n",
       "      <th>date</th>\n",
       "      <th>title</th>\n",
       "      <th>body_text</th>\n",
       "      <th>labels</th>\n",
       "    </tr>\n",
       "  </thead>\n",
       "  <tbody>\n",
       "    <tr>\n",
       "      <th>0</th>\n",
       "      <td>https://prachatai.com/print/42</td>\n",
       "      <td>2004-08-24 14:31</td>\n",
       "      <td>นักวิจัยหนุน  \"แม้ว\"  เปิด  \"จีเอ็มโอ\"</td>\n",
       "      <td>ประชาไท --- 23 ส.ค.2547  นักวิจัยฯ ชี้นโยบายจี...</td>\n",
       "      <td>['ข่าว', 'สิ่งแวดล้อม']</td>\n",
       "    </tr>\n",
       "    <tr>\n",
       "      <th>1</th>\n",
       "      <td>https://prachatai.com/print/41</td>\n",
       "      <td>2004-08-24 14:22</td>\n",
       "      <td>ภาคประชาชนต้านเปิดเสรีจีเอ็มโอ</td>\n",
       "      <td>ประชาไท- 23 ส.ค.2547   นักวิชาการ ภาคประชาชน จ...</td>\n",
       "      <td>['ข่าว', 'สิ่งแวดล้อม']</td>\n",
       "    </tr>\n",
       "    <tr>\n",
       "      <th>2</th>\n",
       "      <td>https://prachatai.com/print/43</td>\n",
       "      <td>2004-08-24 15:17</td>\n",
       "      <td>จุฬาฯ ห่วงจีเอ็มโอลามข้าวไทย</td>\n",
       "      <td>นโยบายที่อนุญาตให้ปลูกร่วมกับพืชอื่นได้นั้นถื...</td>\n",
       "      <td>['ข่าว', 'สิ่งแวดล้อม']</td>\n",
       "    </tr>\n",
       "    <tr>\n",
       "      <th>3</th>\n",
       "      <td>https://prachatai.com/print/45</td>\n",
       "      <td>2004-08-24 15:58</td>\n",
       "      <td>ฟองสบู่การเมืองแตก ทักษิณหมดกึ๋น ชนชั้นกลางหมด...</td>\n",
       "      <td>ประชาไท -- 23 ส.ค. 47  ขาประจำทักษิณ ฟันธง ฟอง...</td>\n",
       "      <td>['ข่าว', 'การเมือง', 'คณะเศรษฐศาสตร์ มหาวิทยาล...</td>\n",
       "    </tr>\n",
       "    <tr>\n",
       "      <th>4</th>\n",
       "      <td>https://prachatai.com/print/47</td>\n",
       "      <td>2004-08-24 16:10</td>\n",
       "      <td>กอต.เสนอเลิกถนนคลองลาน-อุ้มผาง</td>\n",
       "      <td>ประชาไท-23 ส.ค.47  คณะกรรมการอนุรักษ์ ผืนป่าตะ...</td>\n",
       "      <td>['ข่าว', 'สิ่งแวดล้อม']</td>\n",
       "    </tr>\n",
       "  </tbody>\n",
       "</table>\n",
       "</div>"
      ],
      "text/plain": [
       "                              url              date  \\\n",
       "0  https://prachatai.com/print/42  2004-08-24 14:31   \n",
       "1  https://prachatai.com/print/41  2004-08-24 14:22   \n",
       "2  https://prachatai.com/print/43  2004-08-24 15:17   \n",
       "3  https://prachatai.com/print/45  2004-08-24 15:58   \n",
       "4  https://prachatai.com/print/47  2004-08-24 16:10   \n",
       "\n",
       "                                               title  \\\n",
       "0             นักวิจัยหนุน  \"แม้ว\"  เปิด  \"จีเอ็มโอ\"   \n",
       "1                     ภาคประชาชนต้านเปิดเสรีจีเอ็มโอ   \n",
       "2                       จุฬาฯ ห่วงจีเอ็มโอลามข้าวไทย   \n",
       "3  ฟองสบู่การเมืองแตก ทักษิณหมดกึ๋น ชนชั้นกลางหมด...   \n",
       "4                     กอต.เสนอเลิกถนนคลองลาน-อุ้มผาง   \n",
       "\n",
       "                                           body_text  \\\n",
       "0  ประชาไท --- 23 ส.ค.2547  นักวิจัยฯ ชี้นโยบายจี...   \n",
       "1  ประชาไท- 23 ส.ค.2547   นักวิชาการ ภาคประชาชน จ...   \n",
       "2   นโยบายที่อนุญาตให้ปลูกร่วมกับพืชอื่นได้นั้นถื...   \n",
       "3  ประชาไท -- 23 ส.ค. 47  ขาประจำทักษิณ ฟันธง ฟอง...   \n",
       "4  ประชาไท-23 ส.ค.47  คณะกรรมการอนุรักษ์ ผืนป่าตะ...   \n",
       "\n",
       "                                              labels  \n",
       "0                            ['ข่าว', 'สิ่งแวดล้อม']  \n",
       "1                            ['ข่าว', 'สิ่งแวดล้อม']  \n",
       "2                            ['ข่าว', 'สิ่งแวดล้อม']  \n",
       "3  ['ข่าว', 'การเมือง', 'คณะเศรษฐศาสตร์ มหาวิทยาล...  \n",
       "4                            ['ข่าว', 'สิ่งแวดล้อม']  "
      ]
     },
     "execution_count": 13,
     "metadata": {},
     "output_type": "execute_result"
    }
   ],
   "source": [
    "prachathai = pd.read_csv('prachathai-67k.csv')\n",
    "print(prachathai.shape)\n",
    "prachathai.head()"
   ]
  },
  {
   "cell_type": "code",
   "execution_count": 14,
   "metadata": {},
   "outputs": [],
   "source": [
    "from pythainlp.tokenize import word_tokenize"
   ]
  },
  {
   "cell_type": "code",
   "execution_count": 16,
   "metadata": {},
   "outputs": [
    {
     "data": {
      "text/plain": [
       "67889"
      ]
     },
     "execution_count": 16,
     "metadata": {},
     "output_type": "execute_result"
    }
   ],
   "source": [
    "len(prachathai['body_text'].tolist())"
   ]
  },
  {
   "cell_type": "code",
   "execution_count": 26,
   "metadata": {},
   "outputs": [],
   "source": [
    "sentences = [word_tokenize(text, engine='newmm') for text in prachathai[:2000]['body_text'].tolist()]"
   ]
  },
  {
   "cell_type": "code",
   "execution_count": 27,
   "metadata": {},
   "outputs": [
    {
     "data": {
      "text/plain": [
       "[' ',\n",
       " '\"',\n",
       " 'นคร',\n",
       " ' ',\n",
       " 'ชม',\n",
       " 'ภู',\n",
       " 'ชาติ',\n",
       " ' ',\n",
       " 'จาก',\n",
       " 'สภา',\n",
       " 'ทนายความ',\n",
       " ' ',\n",
       " 'ใน',\n",
       " 'ฐานะ',\n",
       " 'ทนายความ',\n",
       " 'ของ',\n",
       " 'น.ส.',\n",
       " 'สุ',\n",
       " 'ภิญญา',\n",
       " '  ',\n",
       " 'กลาง',\n",
       " 'ณรงค์',\n",
       " '\"',\n",
       " '    ',\n",
       " '\\n',\n",
       " 'คดี',\n",
       " 'ที่',\n",
       " 'ฟ้อง',\n",
       " 'ทาง',\n",
       " 'แพ่ง',\n",
       " 'ครั้งนี้',\n",
       " 'มี',\n",
       " 'เนื้อ',\n",
       " 'ความเหมือน',\n",
       " 'คดีอาญา',\n",
       " 'ที่',\n",
       " 'เคย',\n",
       " 'ถูก',\n",
       " 'ฟ้อง',\n",
       " 'มา',\n",
       " 'แล้ว',\n",
       " 'ก่อนหน้านี้',\n",
       " 'แต่',\n",
       " 'เป็นการ',\n",
       " 'เรียกค่าเสียหาย',\n",
       " 'เพิ่มเติม',\n",
       " 'โดย',\n",
       " 'โจทก์',\n",
       " 'ระบุ',\n",
       " 'สาเหตุ',\n",
       " 'ของ',\n",
       " 'ความเสียหาย',\n",
       " 'ว่า',\n",
       " 'มาจาก',\n",
       " ' ',\n",
       " '4',\n",
       " ' ',\n",
       " 'ข้อ',\n",
       " ' ',\n",
       " 'ข้อ',\n",
       " 'ละ',\n",
       " ' ',\n",
       " '100',\n",
       " ' ',\n",
       " 'ล้าน',\n",
       " 'บาท',\n",
       " ' ',\n",
       " 'คือ',\n",
       " '    ',\n",
       " '\\n',\n",
       " '1',\n",
       " '.',\n",
       " 'ทำให้',\n",
       " 'โจทก์',\n",
       " 'ซึ่ง',\n",
       " 'ประกอบ',\n",
       " 'กิจการ',\n",
       " 'โดยเฉพาะ',\n",
       " 'โทรคมนาคม',\n",
       " 'ที่',\n",
       " 'มีชื่อเสียง',\n",
       " 'มาโดยตลอด',\n",
       " 'ต้อง',\n",
       " 'ได้รับ',\n",
       " 'ความเสียหาย',\n",
       " ' ',\n",
       " 'เสียชื่อเสียง',\n",
       " ' ',\n",
       " 'เกียรติคุณ',\n",
       " '     ',\n",
       " '\\n',\n",
       " '2',\n",
       " '.',\n",
       " 'จำเลย',\n",
       " 'ทำให้',\n",
       " 'โจทก์',\n",
       " 'เสียหาย',\n",
       " 'ใน',\n",
       " 'ทาง',\n",
       " 'ทำ',\n",
       " 'กิน',\n",
       " ' ',\n",
       " 'รวมทั้ง',\n",
       " 'ทาง',\n",
       " 'เจริญเติบโต',\n",
       " 'ของ',\n",
       " 'ธุรกิจ',\n",
       " ' ',\n",
       " 'ที่',\n",
       " 'คาด',\n",
       " 'ว่า',\n",
       " 'จะ',\n",
       " 'มี',\n",
       " 'ความเจริญ',\n",
       " 'อย่าง',\n",
       " 'ต่อ',\n",
       " 'เนื่องเพราะ',\n",
       " 'ผู้ใช้บริการ',\n",
       " 'ขาด',\n",
       " 'ความไว้วางใจ',\n",
       " '   ',\n",
       " '\\n',\n",
       " '3',\n",
       " '.',\n",
       " 'โจทก์',\n",
       " 'อ้างว่า',\n",
       " 'เลขาฯ',\n",
       " 'ค',\n",
       " 'ปส.',\n",
       " 'ทำให้',\n",
       " 'กิจการ',\n",
       " 'ที่อยู่',\n",
       " 'ใน',\n",
       " 'ตลาดหลักทรัพย์',\n",
       " 'ที่',\n",
       " 'มี',\n",
       " 'กำไร',\n",
       " 'มาโดยตลอด',\n",
       " 'ต้อง',\n",
       " 'เสียหาย',\n",
       " 'ถูก',\n",
       " 'คณะกรรมการ',\n",
       " 'กำกับ',\n",
       " 'ตลอด',\n",
       " 'หลักทรัพย์',\n",
       " 'เรียก',\n",
       " 'ไป',\n",
       " 'ตรวจสอบ',\n",
       " 'จน',\n",
       " 'ทำให้',\n",
       " 'มูลค่า',\n",
       " 'หุ้น',\n",
       " 'ลดน้อยลง',\n",
       " 'ทำให้',\n",
       " 'โจทก์',\n",
       " 'ต้อง',\n",
       " 'ชี้แจง',\n",
       " 'และ',\n",
       " 'ประกาศ',\n",
       " 'โฆษณา',\n",
       " 'กับ',\n",
       " 'นักลงทุน',\n",
       " ' ',\n",
       " 'และ',\n",
       " '    ',\n",
       " '\\n',\n",
       " '4',\n",
       " '.',\n",
       " 'โจทก์',\n",
       " 'อ้างว่า',\n",
       " 'ได้รับ',\n",
       " 'ความเสียหาย',\n",
       " 'ใน',\n",
       " 'ด้าน',\n",
       " 'ความน่าเชื่อถือ',\n",
       " 'ใน',\n",
       " 'การ',\n",
       " 'ระดมทุน',\n",
       " 'จาก',\n",
       " 'ที่',\n",
       " 'เคย',\n",
       " 'มี',\n",
       " 'ฐานะ',\n",
       " 'ที่',\n",
       " 'มั่นคง',\n",
       " ' ',\n",
       " 'แต่',\n",
       " 'ปัจจุบัน',\n",
       " 'โจทก์',\n",
       " 'ต้อง',\n",
       " 'ถูก',\n",
       " 'ทบทวน',\n",
       " 'เครดิต',\n",
       " '   ',\n",
       " '\\n',\n",
       " 'ขณะที่',\n",
       " 'ผม',\n",
       " 'ยัง',\n",
       " 'ไม่',\n",
       " 'สามารถ',\n",
       " 'พูด',\n",
       " 'ได้',\n",
       " 'ว่า',\n",
       " 'ใคร',\n",
       " 'เป็น',\n",
       " 'ฝ่าย',\n",
       " 'ผิด',\n",
       " 'หรือ',\n",
       " 'ถูก',\n",
       " 'และ',\n",
       " 'ไม่ต้องการ',\n",
       " 'สร้าง',\n",
       " 'กระแส',\n",
       " 'กดดัน',\n",
       " 'การพิจารณา',\n",
       " 'ของ',\n",
       " 'ศาล',\n",
       " ' ',\n",
       " 'แต่',\n",
       " 'ค',\n",
       " 'ปส.',\n",
       " 'เอง',\n",
       " 'สามารถ',\n",
       " 'ยืนยัน',\n",
       " 'เจตนา',\n",
       " 'ว่า',\n",
       " 'การกระทำ',\n",
       " 'ทั้งหมด',\n",
       " 'ไม่',\n",
       " 'ใช่',\n",
       " 'ต้องการ',\n",
       " 'มุ่งหวัง',\n",
       " 'กับ',\n",
       " 'ตัว',\n",
       " 'บุคคล',\n",
       " 'ใด',\n",
       " 'โดยเฉพาะ',\n",
       " 'แต่',\n",
       " 'เป็นเรื่อง',\n",
       " 'ที่',\n",
       " 'ปราก',\n",
       " 'ฎ',\n",
       " 'ใน',\n",
       " 'สังคม',\n",
       " 'ว่า',\n",
       " 'มี',\n",
       " 'กลุ่ม',\n",
       " 'ธุรกิจ',\n",
       " 'โทรคมนาคม',\n",
       " ' ',\n",
       " 'กับ',\n",
       " 'นักการเมือง',\n",
       " 'ใหญ่',\n",
       " 'มีเรื่อง',\n",
       " 'ผลประโยชน์',\n",
       " 'ทับซ้อน',\n",
       " 'ซึ่ง',\n",
       " 'ประชาชน',\n",
       " 'ก็',\n",
       " 'รับรู้',\n",
       " 'และ',\n",
       " 'กระบวนการ',\n",
       " 'ตรวจสอบ',\n",
       " 'ก็',\n",
       " 'เป็น',\n",
       " 'สิทธิ',\n",
       " 'เสรีภาพ',\n",
       " 'พื้นฐาน',\n",
       " 'ของ',\n",
       " 'ประชาชน',\n",
       " 'ตาม',\n",
       " 'รัฐธรรมนูญ',\n",
       " '   ',\n",
       " '\\n',\n",
       " ' ',\n",
       " 'ถ้า',\n",
       " 'โจทก์',\n",
       " 'ไม่',\n",
       " 'เข้าใจ',\n",
       " 'เจตนา',\n",
       " 'นี้',\n",
       " 'เมื่อ',\n",
       " 'เห็น',\n",
       " 'ข่าว',\n",
       " 'บน',\n",
       " 'หน้า',\n",
       " 'หนังสือพิมพ์',\n",
       " 'ก็',\n",
       " 'สามารถ',\n",
       " 'สอบทาน',\n",
       " 'เพื่อ',\n",
       " 'ทำความเข้าใจ',\n",
       " 'ให้',\n",
       " 'ชัดเจน',\n",
       " 'กับ',\n",
       " 'น.ส.',\n",
       " 'สุ',\n",
       " 'ภิญญา',\n",
       " ' ',\n",
       " 'ได้',\n",
       " 'โดยตรง',\n",
       " ' ',\n",
       " 'ซึ่ง',\n",
       " 'จะ',\n",
       " 'ทำให้',\n",
       " 'ไม่',\n",
       " 'เกิด',\n",
       " 'ปัญหา',\n",
       " 'แต่',\n",
       " 'ในความเป็นจริง',\n",
       " 'น.ส.',\n",
       " 'สุ',\n",
       " 'ภิญญา',\n",
       " ' ',\n",
       " 'ไม่',\n",
       " 'เคย',\n",
       " 'ได้รับ',\n",
       " 'การ',\n",
       " 'ติดต่อ',\n",
       " 'แต่อย่างใด',\n",
       " ' ',\n",
       " 'มา',\n",
       " 'รู้ตัว',\n",
       " 'อีกครั้ง',\n",
       " 'ก็',\n",
       " 'ถูก',\n",
       " 'ฟ้อง',\n",
       " 'แล้ว',\n",
       " ' ',\n",
       " 'ทำให้',\n",
       " 'เป็น',\n",
       " 'เรื่องราว',\n",
       " 'ใหญ่โต',\n",
       " ' ',\n",
       " 'และ',\n",
       " 'ยุ่งยาก',\n",
       " 'ซึ่ง',\n",
       " 'สุดท้าย',\n",
       " 'ก็',\n",
       " 'ยัง',\n",
       " 'ไม่',\n",
       " 'รู้',\n",
       " 'ว่า',\n",
       " 'คดี',\n",
       " 'จะ',\n",
       " 'จบ',\n",
       " 'อย่างไร',\n",
       " '   ',\n",
       " '\\n',\n",
       " '  ',\n",
       " 'รายงาน',\n",
       " 'โดย',\n",
       " ' ',\n",
       " ':',\n",
       " ' ',\n",
       " 'ศูนย์ข่าว',\n",
       " 'ประชา',\n",
       " 'ไท',\n",
       " ' ',\n",
       " '\\n']"
      ]
     },
     "execution_count": 27,
     "metadata": {},
     "output_type": "execute_result"
    }
   ],
   "source": [
    "sentences[20]"
   ]
  },
  {
   "cell_type": "code",
   "execution_count": 28,
   "metadata": {},
   "outputs": [],
   "source": [
    "from gensim.models import word2vec\n",
    "import numpy as np\n",
    "import matplotlib.pyplot as plt\n",
    "import matplotlib.font_manager as font_manager"
   ]
  },
  {
   "cell_type": "code",
   "execution_count": 30,
   "metadata": {},
   "outputs": [
    {
     "name": "stdout",
     "output_type": "stream",
     "text": [
      "[['ประชา', 'ไท', ' ', '---', ' ', '23', ' ', 'ส.ค.', '2547', '  ', 'นักวิจัย', 'ฯ', ' ', 'ชี้', 'นโยบาย', 'จีเอ็มโอ', 'เอื้อ', 'ต่อ', 'การค้นคว้าวิจัย', ' ', 'แต่', 'ไม่', 'ใช่', 'คำตอบ', 'ทั้งหมด', ' ', 'ขณะที่', 'ผอ.', 'สวทช.', 'ระบุ', 'มาตรการ', 'ตรวจสอบ', 'ความปลอดภัย', 'มี', 'มา', 'ก่อน', 'การ', 'กำหนด', 'นโยบาย', 'ของ', 'รัฐบาล', ' ', 'เพียงแต่', 'ทบทวน', 'และ', 'ปรับปรุง', 'เพิ่มเติม', '  ', '\\n', 'สำนักงาน', 'พัฒนา', 'วิทยาศาสตร์', 'และ', 'เทคโนโลยี', '  ', 'จัด', 'สัมมนา', 'เกี่ยวกับ', 'มะละกอ', 'ดัดแปลง', 'พันธุกรรม', 'ในประเทศ', 'ไทย', ' ', 'มี', 'นักวิชาการ', ' ', 'นักวิจัย', 'จาก', 'กรมวิชาการเกษตร', '  ', 'มหาวิทยาลัยเกษตรศาสตร์', '  ', 'และ', 'มหาวิทยาลัยมหิดล', 'เข้าร่วม', '  ', 'โดย', 'มี', 'การ', 'นำเสนอ', 'ผลการศึกษา', 'ทดลอง', 'ที่ผ่านมา', '  ', 'ซึ่ง', 'พบ', 'ว่า', 'มะละกอ', '\\n', 'จีเอ็มโอ', 'ผ่านการทดสอบ', 'ความปลอดภัย', 'ทาง', 'ชีวภาพ', 'สิ่งแวดล้อม', 'และ', 'อาหาร', 'ระดับ', 'หนึ่ง', 'เท่านั้น', '    ', '\\n', ' ', '\"', 'การค้นคว้าวิจัย', 'มะละกอ', 'จีเอ็มโอ', 'รวมถึง', 'พืช', 'ชนิด', 'อื่นๆ', ' ', 'ต้อง', 'ทำ', 'ทั้ง', 'ใน', 'โรงเรือน', 'ปิด', ' ', 'แปลง', 'ทดลอง', ' ', 'รวมทั้ง', 'ใน', 'ระดับ', 'ไร่นา', '  ', 'แต่', 'ที่ผ่านมา', 'ทำได้', 'แค่', 'สอง', 'ระดับ', '  ', 'ซึ่ง', 'ถือว่า', ' ', 'ถูกต้อง', 'แล้ว', 'ที่', 'มี', 'นโยบาย', 'ใหม่', 'นี้', 'ออกมา', 'เป็นการ', 'เปิดโอกาส', 'ให้', 'ทำ', 'การทด', 'ลองใน', 'ระดับ', 'ไร่นา', ' ', '\"', 'ผศ.', 'พิสส', 'วรรณ', ' ', 'เจียม', 'สมบัติ', ' ', 'จาก', 'หน่วย', 'ปฏิบัติการ', 'พันธุวิศวกรรม', 'ด้าน', 'พืช', ' ', 'มหาวิทยาลัยเกษตรศาสตร์', 'กล่าว', '    ', '\\n', 'น.ส.', 'สุ', 'ณี', ' ', 'เกิด', 'บัณฑิต', ' ', 'นักวิชาการ', 'จาก', 'สถาบัน', 'อณู', 'ชีววิทยา', 'และ', 'พันธุศาสตร์', '  ', 'มหาวิทยาลัยมหิดล', 'กล่าวว่า', ' ', 'การพัฒนา', 'เทคโนโลยี', 'การตัดต่อ', 'พันธุกรรม', 'นี้', 'มีประโยชน์', 'ใน', 'หลาย', 'ด้าน', '  ', 'แต่', 'ก็', 'ไม่', 'ใช่', 'ออ', 'ล', 'อิน', 'วัน', '  ', 'เพราะ', 'เมื่อ', 'ออกมา', 'แล้ว', 'อาจจะ', 'ต้านทาน', 'ไวรัส', 'ได้ตัว', 'หนึ่ง', '  ', 'แต่', 'ก็', 'ไม่', 'สามารถ', 'ต้านทาน', 'ไวรัส', 'สายพันธุ์', 'อื่นๆ', 'ได้', '  ', 'นอกจากนั้น', 'ต้อง', 'ใช้', 'งบประมาณ', 'มหาศาล', '  ', 'และ', 'ใช้', 'ระยะเวลา', 'ใน', 'การศึกษา', 'วิจัย', 'ค่อนข้าง', 'ยาวนาน', '   ', '\\n', 'รศ.', 'ศักรินทร์', ' ', 'ภูมิ', 'รัตน', ' ', 'ผู้อำนวยการ', 'สำนักงาน', 'พัฒนา', 'วิทยาศาสตร์', 'และ', 'เทคโนโลยี', 'แห่ง', 'ประเทศ', 'ไทย', ' ', '(', 'สวทช.', ')', ' ', 'กล่าวว่า', '  ', 'นโยบาย', 'ของ', 'รัฐ', 'ที่', 'ออกมา', 'เท่ากับ', 'เป็นการ', 'ยอมรับ', 'ให้', 'มี', 'การพัฒนา', 'จีเอ็มโอ', 'ในประเทศ', 'ไทย', '  ', 'โดย', 'มี', 'การประเมินผล', 'ความปลอดภัย', 'ที่', 'รัดกุม', '  ', 'ซึ่ง', 'มาตรการ', 'ดังกล่าว', 'มี', 'มา', 'ก่อนที่', 'รัฐบาล', 'จะ', 'กำหนด', 'นโยบาย', 'ใหม่', 'นี้', '  ', 'เพียงแต่', 'เมื่อ', 'กำหนด', 'นโยบาย', 'ออกมา', 'ชัดเจน', 'ก็', 'ต้อง', 'มี', 'การ', 'กลับ', 'ไป', 'ทบทวน', 'และ', 'ปรับปรุง', 'เพิ่มเติม', '  ', 'โดย', 'เส', 'นอกรอบ', 'เวลา', 'ไว้', ' ', '3', ' ', 'เดือน', 'ซึ่ง', 'คิด', 'ว่า', 'เพียงพอ', '     ', '\\n', 'นาย', 'รุจ', '  ', 'วัล', 'ยะ', 'เส', 'วี', '  ', 'ประธาน', 'คณะทำงาน', 'เพื่อ', 'ประเมิน', 'ความปลอดภัย', 'ทาง', 'ชีวภาพ', 'ของ', 'มะละกอ', 'ดัดแปลง', 'พันธุกรรม', 'กล่าวว่า', '  ', 'ขณะนี้', 'คณะทำงาน', 'ฯ', 'กำลัง', 'ติดตาม', 'การ', 'ทดสอบ', 'ความทนทาน', 'ของ', 'มะละกอ', 'ต่อ', 'โรค', 'ใบ', 'ด่าง', 'วงแหวน', 'ซึ่ง', 'เป็น', 'โรคระบาด', 'ที่', 'สร้าง', 'ความเสียหาย', 'หนักหน่วง', 'อยู่', '  ', 'โดย', 'คณะทำงาน', 'เพื่อ', 'ประเมิน', 'ความปลอดภัย', 'นี้', 'จะ', 'แบ่ง', 'เป็น', 'หลาย', 'ชุด', 'แยก', 'ไป', 'ตาม', 'ชนิด', 'ของ', 'พืช', '  ', 'มี', 'ผู้เชี่ยวชาญ', 'สาขา', 'ต่างๆ', ' ', 'มา', 'ช่วย', 'พิจารณา', '  ', 'ถือเป็น', 'ที่ปรึกษา', 'ด้าน', ' ', 'วิทยาศาสตร์', 'ของ', 'องค์การ', 'อาหาร', 'และ', 'ยา', ' ', '(', 'อย.', ')', ' ', 'ก่อนที่', 'อย.', 'จะ', 'พิจารณา', 'ด้าน', 'อื่นๆ', ' ', 'ต่อไป', '     ', '\\n', 'ทั้งนี้', 'ใน', 'สิ้นเดือน', 'นี้', 'จะ', 'มี', 'การ', 'จัดทำ', 'ประชาพิจารณ์', 'ใน', 'แนวทาง', 'ปฏิบัติ', 'ที่', 'คณะทำงาน', 'ฯ', ' ', 'จะ', 'นำเสนอ', 'ต่อ', ' ', 'อย.', ' ', 'เพื่อ', 'เป็น', 'มาตรฐาน', 'ใน', 'การพิจารณา', 'ความปลอดภัย', 'ด้าน', 'อาหาร', 'ต่อไป', '   ', '\\n', '  ', 'รายงาน', 'โดย', ' ', ':', ' ', 'มุทิตา', ' ', 'เชื้อ', 'ชั่ง', '\\n', 'ศูนย์ข่าว', 'ประชา', 'ไท', '  ', '\\n'], ['ประชา', 'ไท', '-', ' ', '23', ' ', 'ส.ค.', '2547', '   ', 'นักวิชาการ', ' ', 'ภาค', 'ประชาชน', ' ', 'จับมือ', 'ต้าน', 'นโยบาย', 'รัฐ', 'เปิด', 'เสรี', 'จีเอ็มโอ', ' ', 'หวั่น', 'ไทย', 'เสีย', 'ค่า', 'โง่', 'ต่างชาติ', '  ', 'เตรียม', 'ชุมนุม', 'คัดค้าน', 'หน้า', 'ทำเนียบฯ', ' ', 'พรุ่งนี้', '  ', '\\n', 'กลุ่ม', 'องค์กร', 'ผู้บริโภค', ' ', 'เครือข่าย', 'ภาค', 'เกษตรกรรม', ' ', 'นักวิชาการ', ' ', 'และ', 'กลุ่ม', 'ศึกษา', 'เขตการค้าเสรี', 'ภาค', 'ประชาชน', ' ', '(', 'FTA', ' ', 'WATCH', ')', ' ', 'แสดง', 'จุดยืน', 'คัดค้าน', 'มติ', 'ปลูก', 'พืช', 'จีเอ็มโอ', 'อย่าง', 'เสรี', ' ', 'เพราะ', 'เกรง', 'ว่า', 'จะ', 'เป็นอันตราย', 'ต่อ', 'ผู้บริโภค', 'และ', 'สิ่งแวดล้อม', '    ', '\\n', '  ', '\"', 'อยาก', 'ให้', 'รัฐบาล', 'ทบทวน', 'มติ', 'ดังกล่าว', ' ', 'มิเช่นนั้น', 'กลุ่ม', 'ผู้', 'ค้าน', 'เปิด', 'เสรี', 'จีเอ็มโอ', 'ทั้งหมด', 'จะ', 'เคลื่อนไหว', 'ใหญ่', '  ', '\"', 'นาย', 'วิฑูรย์', ' ', 'เลี่ยน', 'จำรูญ', ' ', 'ผู้อำนวยการ', 'ไบโอ', 'ไทย', 'ระบุ', '    ', '\\n', 'พรุ่งนี้', 'เวลา', ' ', '9.00', ' ', 'น.', ' ', 'กลุ่ม', 'ผู้คัดค้าน', 'การ', 'ปลูก', 'และ', 'นำเข้า', 'พืช', 'จีเอ็มโอ', ' ', 'จะ', 'รวมตัว', 'กันที่', 'หน้า', 'ทำเนียบรัฐบาล', 'เพื่อ', 'เรียกร้อง', 'ให้', ' ', 'พ.ต.ท.', 'ทักษิณ', ' ', 'ชินวัตร', ' ', 'นายกรัฐมนตรี', 'ทบทวน', 'มติ', 'ดังกล่าว', '   ', '\\n', 'นาย', 'สุ', 'รวิ', 'ช', ' ', 'วรรณ', 'ไกร', 'โรจน์', ' ', 'อาจารย์', 'คณะ', 'เกษตรศาสตร์', '  ', 'มหาวิทยาลัยเกษตรศาสตร์', ' ', 'กล่าวว่า', ' ', 'รู้สึก', 'เป็นห่วง', 'เรื่อง', 'นี้', 'มาก', ' ', 'เพราะ', 'ขณะนี้', 'ไทย', 'ยัง', 'ไม่', 'มี', 'กฎหมาย', 'กำกับ', 'ดูแล', 'การ', 'ใช้ประโยชน์', 'จาก', 'จีเอ็มโอ', ' ', 'ประกอบ', 'กับ', 'ยัง', 'ไม่', 'มี', 'นักวิทยาศาสตร์', 'คน', 'ไหน', 'กล้า', 'ยืนยัน', 'ว่า', 'จีเอ็มโอ', 'ปลอดภัย', 'ทั้งคน', ' ', 'สัตว์', ' ', 'พืช', ' ', 'และ', 'สิ่งแวดล้อม', '    ', '\\n', ' ', '\"', ' ', 'ผม', 'เป็นห่วง', 'กลัว', 'ว่า', 'เกษตรกร', 'จะ', 'เดือดร้อน', ' ', 'เพราะ', 'รัฐบาล', 'เร่งรัด', 'เปิด', 'เสรี', 'จีเอ็มโอ', 'จน', 'ผิด', 'สัง', 'เกตุ', ' ', 'ผม', 'เชื่อ', 'เหลือเกิน', 'ว่า', 'จะ', 'ต้อง', 'เกี่ยวโยง', 'กับ', 'การ', 'ทำ', 'เอฟทีเอ', 'กับ', 'สหรัฐฯ', 'แน่นอน', '  ', '\"', ' ', 'นาย', 'สุ', 'รวิ', 'ชก', 'ล่า', 'ว', '   ', '\\n', 'นาย', 'บัณฑูร', ' ', 'เศรษฐ', 'ศิ', 'โร', 'ตม', '์', ' ', 'อนุกรรมการ', 'ใน', 'กรรมการ', 'สิทธิมนุษยชน', 'แห่งชาติ', ' ', 'กล่าวว่า', ' ', 'นโยบาย', 'จีเอ็มโอ', 'ของ', 'ไทย', 'ตั้งอยู่', 'บน', 'พื้น', 'ฐานข้อมูล', 'ที่', 'คาด', 'เคลื่อน', ' ', 'ขัดแย้ง', 'กับ', 'นโยบาย', 'ฟู๊ด', 'เซฟตี้', ' ', '(', ' ', 'food', ' ', 'safety', ')', ' ', 'และ', 'เกษตร', 'อินทรีย์', 'อย่าง', 'สิ้นเชิง', ' ', 'จึง', 'อยาก', 'เรียกร้อง', 'ให้', 'รัฐบาล', 'ทบทวน', 'มติ', 'ดังกล่าว', ' ', 'มิเช่นนั้น', 'สหรัฐฯ', 'อาจ', 'ใช้', 'กฎหมาย', 'ที่', 'ว่าด้วย', 'การ', 'ทำ', 'เอฟทีเอ', 'กับ', 'ทุก', 'ประเทศ', 'เอาเปรียบ', 'ไทย', 'ได้', ' ', 'และ', 'ไม่', 'เห็นด้วย', 'ที่จะ', 'ให้', 'มี', 'การทดลอง', 'ภาคสนาม', ' ', 'เพราะ', 'สามารถ', 'ทด', 'ลองใน', 'ห้อง', 'แล็ป', 'ได้', '   ', '\\n', 'นาย', 'วิวัฒน์', ' ', 'ศัลย', 'กำธร', ' ', 'ประธาน', 'มูลนิธิ', 'กสิกรรม', 'ธรรมชาติ', ' ', 'กล่าวว่า', ' ', 'เชื่อ', 'ว่า', 'จะ', 'ต้อง', 'มี', 'อะไร', 'อยู่', 'เบื้องหลัง', 'นโยบาย', 'นี้', ' ', 'มิเช่นนั้น', 'คง', 'ไม่', 'รีบ', 'ทำ', ' ', 'จน', 'ลืม', 'คิด', 'ไป', 'ว่า', 'สวนทาง', 'กับ', 'นโยบาย', 'เกษตร', 'อินทรีย์', ' ', 'จึง', 'อยาก', 'เรียกร้อง', 'ให้', 'ทบทวน', ' ', 'ไม่', 'อยาก', 'ให้', 'ยืมจมูกคนอื่นหายใจ', '   ', '\\n', 'นาย', 'วิฑูรย์', ' ', 'ปัญญา', 'กุล', ' ', 'ตัวแทน', 'จาก', 'กรีน', 'เนท', ' ', 'กล่าวว่า', ' ', 'รัฐ', 'บาน', 'ต้อง', 'แยกแยะ', 'พื้นที่', 'ใน', 'การ', 'ปลูก', 'พืช', 'จีเอ็มโอ', 'ให้', 'ชัดเจน', ' ', 'ที่ผ่านมา', 'ไทย', 'ทำ', 'การศึกษา', 'การ', 'ปนเปื้อน', 'ทั้ง', 'ใน', 'ระดับ', 'เมล็ดพันธุ์', ' ', 'ระดับ', 'ไร่นา', ' ', 'และ', 'ระดับ', 'แปรรูป', 'น้อย', 'มาก', ' ', 'ดังนั้น', 'จึง', 'มีความจำเป็น', 'ต้อง', 'มีระบบ', 'ขึ้นทะเบียน', 'ตรวจสอบ', ' ', 'นอกจากนี้', 'ไม่', 'ควร', 'ให้', 'ทาง', 'ไบโอเทค', 'เป็น', 'ผู้ดูแล', 'กำกับ', 'การ', 'ปลูก', ' ', 'เพราะ', 'เป็น', 'หน่วยงาน', 'ที่', 'ไม่', 'น่าเชื่อถือ', '    ', '\\n', 'นาย', 'เดชา', ' ', 'ศิ', 'ริ', 'ภัทร', ' ', 'เลขานุการ', 'มูลนิธิ', 'เกษตรกรรม', 'ยั่งยืน', ' ', '(', 'ประเทศ', 'ไทย', ')', ' ', 'กล่าวว่า', ' ', 'รัฐบาล', 'ประกาศ', 'สนับสนุน', 'นโยบาย', 'เกษตร', 'อินทรีย์', ' ', 'เกษตร', 'ยั่งยืน', ' ', 'เกษตร', 'ผสมผสาน', ' ', 'เมื่อ', 'ปี', ' ', '2544', ' ', 'แต่', 'ขณะนี้', 'เกษตรกร', 'ยัง', 'ไม่', 'ได้', 'รับเงิน', 'แม้แต่', 'บาท', 'เดียว', ' ', 'แต่', 'กลับมา', 'ให้ความสำคัญ', 'กับ', 'นโยบาย', 'จีเอ็มโอ', 'ที่', 'ไม่', 'เคย', 'ประกาศ', 'ใน', 'สภา', 'ฯ', '   ', '\\n', ' ', '\"', ' ', 'ผม', 'เห็น', 'ท่าน', 'นายกฯ', 'ผลักดัน', 'เรื่อง', 'จีเอ็มโอ', 'อย่าง', 'ไม่', 'มีเหตุผล', ' ', 'เร่งรีบ', 'ทำ', 'ทั้งๆ ที่', 'ไม่', 'ใช่', 'นโยบาย', 'ที่ประกาศ', 'ใน', 'สภา', 'ฯ', ' ', 'ซึ่ง', 'ถ้า', 'ท่าน', 'ยัง', 'ไม่', 'หยุด', 'ความคิด', 'เรื่อง', 'นี้', ' ', 'กลุ่ม', 'เกษตรกร', 'ทางเลือก', 'ทุก', 'กลุ่ม', 'ก็', 'พร้อม', 'จะ', 'ไม่', 'ลงคะแนนเสียง', 'ให้', 'พรรค', 'ของ', 'ท่าน', 'ใน', 'การเลือกตั้ง', 'ที่จะ', 'มี', 'ถึง', 'แน่นอน', '\"', '  ', 'นาย', 'เดชา', 'กล่าว', '    ', '\\n', '  ', 'รายงาน', 'โดย', ' ', ':', ' ', 'สม', 'สุข', '  ', 'มณี', 'ทิพย์', 'สกุล', '\\n', 'ศูนย์ข่าว', 'ประชา', 'ไท', ' ', '\\n']]\n"
     ]
    }
   ],
   "source": [
    "print(sentences[0:2])"
   ]
  },
  {
   "cell_type": "code",
   "execution_count": 31,
   "metadata": {},
   "outputs": [],
   "source": [
    "num_workers = 2\n",
    "downsampling = 1e-3\n",
    "num_feature = 100\n",
    "min_word_count = 10\n",
    "context = 8\n",
    "modelname = 'word2vec_gensim'"
   ]
  },
  {
   "cell_type": "code",
   "execution_count": 46,
   "metadata": {},
   "outputs": [],
   "source": [
    "w2v = word2vec.Word2Vec(workers=num_workers, max_vocab_size=None, vector_size=num_feature, min_count=min_word_count, window=context, sample=downsampling)"
   ]
  },
  {
   "cell_type": "code",
   "execution_count": 47,
   "metadata": {},
   "outputs": [],
   "source": [
    "w2v.build_vocab(sentences)"
   ]
  },
  {
   "cell_type": "code",
   "execution_count": 48,
   "metadata": {},
   "outputs": [
    {
     "data": {
      "text/plain": [
       "(8329118, 11963870)"
      ]
     },
     "execution_count": 48,
     "metadata": {},
     "output_type": "execute_result"
    }
   ],
   "source": [
    "w2v.train(sentences, total_examples=w2v.corpus_count, epochs=10)"
   ]
  },
  {
   "cell_type": "code",
   "execution_count": 49,
   "metadata": {},
   "outputs": [
    {
     "data": {
      "text/plain": [
       "[('คัน', 0.880924642086029),\n",
       " ('จอด', 0.8617746233940125),\n",
       " ('วิ่ง', 0.8312888741493225),\n",
       " ('รถบรรทุก', 0.823367178440094),\n",
       " ('นอน', 0.8218986988067627),\n",
       " ('รถกระบะ', 0.8104279637336731),\n",
       " ('ขึ้นรถ', 0.8035823702812195),\n",
       " ('ล้อ', 0.792911946773529),\n",
       " ('ขี่', 0.7788247466087341),\n",
       " ('โรงพัก', 0.7724006175994873),\n",
       " ('พัก', 0.7682336568832397),\n",
       " ('ใส่', 0.7677119374275208),\n",
       " ('รถจักรยานยนต์', 0.7676965594291687),\n",
       " ('ขับรถ', 0.7666316628456116),\n",
       " ('นั่ง', 0.7659447193145752),\n",
       " ('ทับกัน', 0.7642862796783447),\n",
       " ('ขับ', 0.7628204226493835),\n",
       " ('ท้อง', 0.7579960823059082),\n",
       " ('รถยนต์', 0.7371087074279785),\n",
       " ('ข้าง', 0.7333202362060547)]"
      ]
     },
     "execution_count": 49,
     "metadata": {},
     "output_type": "execute_result"
    }
   ],
   "source": [
    "WORD = \"รถ\"\n",
    "w2v.wv.most_similar(WORD, topn=20)"
   ]
  },
  {
   "cell_type": "code",
   "execution_count": 50,
   "metadata": {},
   "outputs": [
    {
     "data": {
      "text/plain": [
       "[('ยังไง', 0.7518206834793091),\n",
       " ('มั้ย', 0.7148282527923584),\n",
       " ('ทุกครั้ง', 0.7049916386604309),\n",
       " ('เมื่อใด', 0.7004212141036987),\n",
       " ('ไม่งั้น', 0.693626344203949),\n",
       " ('ฉัน', 0.6834286451339722),\n",
       " ('นึก', 0.6832706332206726),\n",
       " ('กลัว', 0.6807498931884766),\n",
       " ('ค่อนข้างจะ', 0.6780810356140137),\n",
       " ('แค่นั้น', 0.6735287308692932),\n",
       " ('เดี๋ยว', 0.6681802868843079),\n",
       " ('เจ้าของบ้าน', 0.6671634912490845),\n",
       " ('พอแล้ว', 0.6658304333686829),\n",
       " ('จริงๆ', 0.6566267609596252),\n",
       " ('ตอนนั้น', 0.6559668183326721),\n",
       " ('ไง', 0.6441969275474548),\n",
       " ('ดูเหมือน', 0.64166659116745),\n",
       " ('เมื่อไร', 0.6402873396873474),\n",
       " ('เดี๋ยวนี้', 0.6391369700431824),\n",
       " ('อด', 0.6321067810058594)]"
      ]
     },
     "execution_count": 50,
     "metadata": {},
     "output_type": "execute_result"
    }
   ],
   "source": [
    "WORD = \"เมื่อไหร่\"\n",
    "w2v.wv.most_similar(WORD, topn=20)"
   ]
  },
  {
   "cell_type": "code",
   "execution_count": 51,
   "metadata": {},
   "outputs": [
    {
     "data": {
      "text/plain": [
       "[('พ.ต.ท.', 0.8918789625167847),\n",
       " ('ชินวัตร', 0.8834579586982727),\n",
       " ('นายกรัฐมนตรี', 0.7196049690246582),\n",
       " ('ผู้นำประเทศ', 0.6306033134460449),\n",
       " ('นายกฯ', 0.6024326086044312),\n",
       " ('ฯพณฯ', 0.5992477536201477),\n",
       " ('ระบอบ', 0.594645082950592),\n",
       " ('ดำริ', 0.5642423629760742),\n",
       " ('หาเสียง', 0.521698534488678),\n",
       " ('พายัพ', 0.5196114182472229),\n",
       " ('หุ้น', 0.5054323077201843),\n",
       " ('แข็งกร้าว', 0.4959358870983124),\n",
       " ('ซุก', 0.49239328503608704),\n",
       " ('หลีก', 0.48443928360939026),\n",
       " ('เสียงข้างมาก', 0.46982842683792114),\n",
       " ('ขอโทษ', 0.469072163105011),\n",
       " ('รัฐบาล', 0.4647895097732544),\n",
       " ('พรรคประชาธิปัตย์', 0.4619766175746918),\n",
       " ('เปิดผนึก', 0.4472459554672241),\n",
       " ('ท่าที', 0.44548389315605164)]"
      ]
     },
     "execution_count": 51,
     "metadata": {},
     "output_type": "execute_result"
    }
   ],
   "source": [
    "WORD = \"ทักษิณ\"\n",
    "w2v.wv.most_similar(WORD, topn=20)"
   ]
  },
  {
   "cell_type": "code",
   "execution_count": 52,
   "metadata": {},
   "outputs": [],
   "source": [
    "word = \"นักข่าว\"\n",
    "he = w2v.wv.most_similar(word, topn=20)"
   ]
  },
  {
   "cell_type": "code",
   "execution_count": 53,
   "metadata": {},
   "outputs": [],
   "source": [
    "x = [w[0] for w in he]\n",
    "x.append(word)"
   ]
  },
  {
   "cell_type": "code",
   "execution_count": 58,
   "metadata": {},
   "outputs": [],
   "source": [
    "labels = w2v.wv.index_to_key"
   ]
  },
  {
   "cell_type": "code",
   "execution_count": 60,
   "metadata": {},
   "outputs": [
    {
     "name": "stderr",
     "output_type": "stream",
     "text": [
      "c:\\Users\\User\\miniconda3\\envs\\tf\\lib\\site-packages\\sklearn\\manifold\\_t_sne.py:790: FutureWarning: The default learning rate in TSNE will change from 200.0 to 'auto' in 1.2.\n",
      "  warnings.warn(\n",
      "c:\\Users\\User\\miniconda3\\envs\\tf\\lib\\site-packages\\sklearn\\manifold\\_t_sne.py:982: FutureWarning: The PCA initialization in TSNE will change to have the standard deviation of PC1 equal to 1e-4 in 1.2. This will ensure better convergence.\n",
      "  warnings.warn(\n"
     ]
    }
   ],
   "source": [
    "from sklearn.manifold import TSNE\n",
    "tsne = TSNE(perplexity=30.0, n_components=2, init='pca', n_iter=5000)\n",
    "thai2plot = tsne.fit_transform(w2v.wv.vectors)"
   ]
  },
  {
   "cell_type": "code",
   "execution_count": 61,
   "metadata": {},
   "outputs": [],
   "source": [
    "sample_idx = []\n",
    "for word in x:\n",
    "    sample_idx.append(labels.index(word))\n",
    "sample_plot = thai2plot[sample_idx]"
   ]
  },
  {
   "cell_type": "code",
   "execution_count": 62,
   "metadata": {},
   "outputs": [],
   "source": [
    "def plot_with_labels(low_dim_embs, labels, filename, figsize=(10, 10)):\n",
    "    assert low_dim_embs.shape[0] >= len(labels)\n",
    "    plt.figure(figsize=figsize)\n",
    "    for i, label in enumerate(labels):\n",
    "        x, y = low_dim_embs[i, :]\n",
    "        plt.scatter(x, y)\n",
    "        prop = font_manager.FontProperties(fname=f'THSarabunNew.ttf', size=20)\n",
    "        plt.annotate(label, fontproperties=prop, xy=(x, y), xytext=(5, 2), textcoords='offset points', ha='right', va='bottom')\n",
    "    plt.savefig(filename)"
   ]
  },
  {
   "cell_type": "code",
   "execution_count": 63,
   "metadata": {},
   "outputs": [
    {
     "data": {
      "image/png": "[encoded data removed]",
      "text/plain": [
       "<Figure size 1000x1000 with 1 Axes>"
      ]
     },
     "metadata": {},
     "output_type": "display_data"
    }
   ],
   "source": [
    "plot_with_labels(sample_plot, x,'cute.png' )"
   ]
  },
  {
   "cell_type": "code",
   "execution_count": 66,
   "metadata": {},
   "outputs": [
    {
     "data": {
      "text/plain": [
       "0.0043013133"
      ]
     },
     "execution_count": 66,
     "metadata": {},
     "output_type": "execute_result"
    }
   ],
   "source": [
    "w2v.wv.similarity('นักข่าว', 'ทักษิณ')"
   ]
  },
  {
   "cell_type": "code",
   "execution_count": 75,
   "metadata": {},
   "outputs": [
    {
     "data": {
      "text/plain": [
       "0.66575444"
      ]
     },
     "execution_count": 75,
     "metadata": {},
     "output_type": "execute_result"
    }
   ],
   "source": [
    "w2v.wv.similarity('เพื่อน', 'แฟน')"
   ]
  }
 ],
 "metadata": {
  "kernelspec": {
   "display_name": "Python 3",
   "language": "python",
   "name": "python3"
  },
  "language_info": {
   "codemirror_mode": {
    "name": "ipython",
    "version": 3
   },
   "file_extension": ".py",
   "mimetype": "text/x-python",
   "name": "python",
   "nbconvert_exporter": "python",
   "pygments_lexer": "ipython3",
   "version": "3.10.8 | packaged by conda-forge | (main, Nov 24 2022, 14:07:00) [MSC v.1916 64 bit (AMD64)]"
  },
  "orig_nbformat": 4,
  "vscode": {
   "interpreter": {
    "hash": "fd6d6cb290673ab90f7eabfbb5e0872757dd79fe611a96b9ca3462dfc1ba1bf5"
   }
  }
 },
 "nbformat": 4,
 "nbformat_minor": 2
}
