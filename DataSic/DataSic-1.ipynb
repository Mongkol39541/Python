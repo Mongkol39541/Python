{
    "cells": [
        {
            "cell_type": "code",
            "execution_count": 1,
            "source": [
                "import numpy as np\r\n",
                "List = [\"x_1\",\"x_2\",\"x_3\",\"x_4\",\"x_5\",\"x_6\",\"x_7\",\"x_8\",\"x_9\",\" x_10\"] \r\n",
                "Table = []\r\n",
                "Table_1 = []\r\n",
                "\r\n",
                "for i_1 in range(10):\r\n",
                "  for i_2 in range(10):\r\n",
                "    List[i_2] = i_2*10 + i_1\r\n",
                "    Table.append(List[i_2])\r\n",
                "  Table_1.append(Table)\r\n",
                "  Table = []\r\n",
                "\r\n",
                "Data = np.array([Table_1[0],Table_1[9],Table_1[2],Table_1[7],Table_1[4],Table_1[5],Table_1[6],Table_1[3],Table_1[8],Table_1[1]])\r\n",
                "\r\n",
                "Data_2 = []\r\n",
                "Data_3 = []\r\n",
                "\r\n",
                "for j_1 in range(10):\r\n",
                "  for j_2 in range(10):\r\n",
                "    Data_1 = Data[j_2][j_1]\r\n",
                "    Data_2.append(Data_1)\r\n",
                "  Data_3.append(Data_2)\r\n",
                "  Data_2 = []\r\n",
                "Ans = np.array(Data_3)\r\n",
                "\r\n",
                "print(Ans)"
            ],
            "outputs": [
                {
                    "output_type": "stream",
                    "name": "stdout",
                    "text": [
                        "[[ 0  9  2  7  4  5  6  3  8  1]\n",
                        " [10 19 12 17 14 15 16 13 18 11]\n",
                        " [20 29 22 27 24 25 26 23 28 21]\n",
                        " [30 39 32 37 34 35 36 33 38 31]\n",
                        " [40 49 42 47 44 45 46 43 48 41]\n",
                        " [50 59 52 57 54 55 56 53 58 51]\n",
                        " [60 69 62 67 64 65 66 63 68 61]\n",
                        " [70 79 72 77 74 75 76 73 78 71]\n",
                        " [80 89 82 87 84 85 86 83 88 81]\n",
                        " [90 99 92 97 94 95 96 93 98 91]]\n"
                    ]
                }
            ],
            "metadata": {}
        },
        {
            "cell_type": "code",
            "execution_count": 2,
            "source": [
                "Dict = {\r\n",
                "    \"name\" : \"ABCD\",\r\n",
                "    \"age\" : 18,\r\n",
                "    \"gender\" : \"Man\",\r\n",
                "    \"like\" : [\"dog\",\"cat\",\"fish\"]\r\n",
                "}\r\n",
                "print(Dict.keys())\r\n",
                "print(Dict.values())"
            ],
            "outputs": [
                {
                    "output_type": "stream",
                    "name": "stdout",
                    "text": [
                        "dict_keys(['name', 'age', 'gender', 'like'])\n",
                        "dict_values(['ABCD', 18, 'Man', ['dog', 'cat', 'fish']])\n"
                    ]
                }
            ],
            "metadata": {}
        },
        {
            "cell_type": "code",
            "execution_count": 3,
            "source": [
                "Dict[\"name\"] = \"Boss\"\r\n",
                "Dict.update({\"like\" : [\"game\",\"catoon\"]})\r\n",
                "Dict.update({\"colour\" : \"back\"})\r\n",
                "Dict.update({\"food\" : {\"sweet\" : \"cake\"}})\r\n",
                "print(Dict)"
            ],
            "outputs": [
                {
                    "output_type": "stream",
                    "name": "stdout",
                    "text": [
                        "{'name': 'Boss', 'age': 18, 'gender': 'Man', 'like': ['game', 'catoon'], 'colour': 'back', 'food': {'sweet': 'cake'}}\n"
                    ]
                }
            ],
            "metadata": {}
        },
        {
            "cell_type": "code",
            "execution_count": 4,
            "source": [
                "jane = {\r\n",
                "  \"people\" : [{\"firstName\": \"Joe\",\"lastName\": \"Jackson\",\"gender\": \"male\",\"age\": 28,\"number\": \"7349282382\"},\r\n",
                "    {\"firstName\": \"James\",\"lastName\": \"Smith\",\"gender\": \"male\",\"age\": 32,\"number\": \"5678568567\"},\r\n",
                "    {\"firstName\": \"Emily\",\"lastName\": \"Jones\",\"gender\": \"female\",\"age\": 24,\"number\": \"456754675\"}]\r\n",
                "}\r\n",
                "\r\n",
                "Round_1 = jane[\"people\"]\r\n",
                "\r\n",
                "for x_0 in range(3):\r\n",
                "  for x_1 in Round_1[x_0]:\r\n",
                "    if x_1 in Round_1[x_0]:\r\n",
                "      if Round_1[x_0][x_1] in Round_1[x_0].values():\r\n",
                "        print(x_1,end=\" \")\r\n",
                "        print(Round_1[0][x_1])"
            ],
            "outputs": [
                {
                    "output_type": "stream",
                    "name": "stdout",
                    "text": [
                        "firstName Joe\n",
                        "lastName Jackson\n",
                        "gender male\n",
                        "age 28\n",
                        "number 7349282382\n",
                        "firstName Joe\n",
                        "lastName Jackson\n",
                        "gender male\n",
                        "age 28\n",
                        "number 7349282382\n",
                        "firstName Joe\n",
                        "lastName Jackson\n",
                        "gender male\n",
                        "age 28\n",
                        "number 7349282382\n"
                    ]
                }
            ],
            "metadata": {}
        },
        {
            "cell_type": "code",
            "execution_count": 5,
            "source": [
                "import pandas as pd\r\n",
                "List_1 = [1,2,3,4,5,6,7]\r\n",
                "s = pd.Series(List_1,index=[7,6,5,4,3,2,1])\r\n",
                "s"
            ],
            "outputs": [
                {
                    "output_type": "execute_result",
                    "data": {
                        "text/plain": [
                            "7    1\n",
                            "6    2\n",
                            "5    3\n",
                            "4    4\n",
                            "3    5\n",
                            "2    6\n",
                            "1    7\n",
                            "dtype: int64"
                        ]
                    },
                    "metadata": {},
                    "execution_count": 5
                }
            ],
            "metadata": {}
        },
        {
            "cell_type": "code",
            "execution_count": 13,
            "source": [
                "import json\r\n",
                "Open = open(\"lingmaichobcomputer.json\")\r\n",
                "Data = json.load(Open)\r\n",
                "D = {\"Data\":Data}\r\n",
                "D = pd.DataFrame(D)\r\n",
                "D"
            ],
            "outputs": [
                {
                    "output_type": "execute_result",
                    "data": {
                        "text/html": [
                            "<div>\n",
                            "<style scoped>\n",
                            "    .dataframe tbody tr th:only-of-type {\n",
                            "        vertical-align: middle;\n",
                            "    }\n",
                            "\n",
                            "    .dataframe tbody tr th {\n",
                            "        vertical-align: top;\n",
                            "    }\n",
                            "\n",
                            "    .dataframe thead th {\n",
                            "        text-align: right;\n",
                            "    }\n",
                            "</style>\n",
                            "<table border=\"1\" class=\"dataframe\">\n",
                            "  <thead>\n",
                            "    <tr style=\"text-align: right;\">\n",
                            "      <th></th>\n",
                            "      <th>Data</th>\n",
                            "    </tr>\n",
                            "  </thead>\n",
                            "  <tbody>\n",
                            "    <tr>\n",
                            "      <th>Calories</th>\n",
                            "      <td>{'0': 409.1, '1': 479.0, '2': 340.0, '3': 282....</td>\n",
                            "    </tr>\n",
                            "    <tr>\n",
                            "      <th>Duration</th>\n",
                            "      <td>{'0': 60, '1': 60, '2': 60, '3': 45, '4': 45, ...</td>\n",
                            "    </tr>\n",
                            "    <tr>\n",
                            "      <th>Maxpulse</th>\n",
                            "      <td>{'0': 130, '1': 145, '2': 135, '3': 175, '4': ...</td>\n",
                            "    </tr>\n",
                            "    <tr>\n",
                            "      <th>Pulse</th>\n",
                            "      <td>{'0': 110, '1': 117, '2': 103, '3': 109, '4': ...</td>\n",
                            "    </tr>\n",
                            "  </tbody>\n",
                            "</table>\n",
                            "</div>"
                        ],
                        "text/plain": [
                            "                                                       Data\n",
                            "Calories  {'0': 409.1, '1': 479.0, '2': 340.0, '3': 282....\n",
                            "Duration  {'0': 60, '1': 60, '2': 60, '3': 45, '4': 45, ...\n",
                            "Maxpulse  {'0': 130, '1': 145, '2': 135, '3': 175, '4': ...\n",
                            "Pulse     {'0': 110, '1': 117, '2': 103, '3': 109, '4': ..."
                        ]
                    },
                    "metadata": {},
                    "execution_count": 13
                }
            ],
            "metadata": {}
        }
    ],
    "metadata": {
        "orig_nbformat": 4,
        "language_info": {
            "name": "python",
            "version": "3.9.7",
            "mimetype": "text/x-python",
            "codemirror_mode": {
                "name": "ipython",
                "version": 3
            },
            "pygments_lexer": "ipython3",
            "nbconvert_exporter": "python",
            "file_extension": ".py"
        },
        "kernelspec": {
            "name": "python3",
            "display_name": "Python 3.9.7 64-bit"
        },
        "interpreter": {
            "hash": "fda75b26b5b89e627ff9e941ca952371f5578bd9249dbb144398f26762006e85"
        }
    },
    "nbformat": 4,
    "nbformat_minor": 2
}