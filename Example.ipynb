{
 "cells": [
  {
   "cell_type": "code",
   "execution_count": 1,
   "metadata": {},
   "outputs": [],
   "source": [
    "class Book:\n",
    "    def __init__(self, title, author, price, keywords):\n",
    "        self.title = title\n",
    "        self.author = author\n",
    "        self.price = float(price)\n",
    "        self.keywords = set(keywords)\n",
    "\n",
    "    def __str__(self):\n",
    "        outtitle = self.title + ' by ' + self.author + '\\n'\n",
    "        outprice = 'Price : ' + str(self.price) + ' baht' + '\\n'\n",
    "        outkewords = 'Keywords : ' + str(sorted([loop.capitalize() for loop in self.keywords]))\n",
    "        return outtitle + outprice + outkewords\n",
    "    \n",
    "    def update_price(self, new_price):\n",
    "        self.price = new_price\n",
    "    \n",
    "    def get_common_keywords(self, another):\n",
    "        return self.keywords.intersection(another.keywords)\n",
    "    \n",
    "    def __lt__(self, another):\n",
    "        if self.price == another.price:\n",
    "            return self.title < another.title\n",
    "        else:\n",
    "            return self.price < another.price"
   ]
  },
  {
   "cell_type": "code",
   "execution_count": 2,
   "metadata": {},
   "outputs": [],
   "source": [
    "b1 = Book('Python Programming', 'John Smith', 99, \n",
    "          ['programming', 'computer', 'python'])\n",
    "b2 = Book('This Statistics and Calculus with Python Workshop', \n",
    "          'Peter Farrell', 99, ['statistics', 'maths', 'python', 'programming'])\n",
    "b3 = Book('Harry Potter and Chamber of Secrets', \n",
    "          'J. K. rowling', 359.75, ['Science Fiction', 'Fantasy', 'Wizard'])"
   ]
  },
  {
   "cell_type": "code",
   "execution_count": 3,
   "metadata": {},
   "outputs": [
    {
     "name": "stdout",
     "output_type": "stream",
     "text": [
      "Python Programming by John Smith\n",
      "Price : 99.0 baht\n",
      "Keywords : ['Computer', 'Programming', 'Python']\n",
      "This Statistics and Calculus with Python Workshop by Peter Farrell\n",
      "Price : 99.0 baht\n",
      "Keywords : ['Maths', 'Programming', 'Python', 'Statistics']\n",
      "Harry Potter and Chamber of Secrets by J. K. rowling\n",
      "Price : 359.75 baht\n",
      "Keywords : ['Fantasy', 'Science fiction', 'Wizard']\n"
     ]
    }
   ],
   "source": [
    "books = [b1, b2, b3]\n",
    "books.sort()\n",
    "for loop in books:\n",
    "    print(loop)"
   ]
  },
  {
   "cell_type": "code",
   "execution_count": 59,
   "metadata": {},
   "outputs": [],
   "source": [
    "class ShoppingCart:\n",
    "    def __init__(self, id) :\n",
    "        self.id = id\n",
    "        self.books = []\n",
    "    \n",
    "    def add_book(self, book_obj, n):\n",
    "        che = True\n",
    "        for loop in range(len(self.books)):\n",
    "            if self.books[loop][0] == book_obj:\n",
    "                self.books[loop][1] += n\n",
    "                che = False\n",
    "                break\n",
    "        if che:\n",
    "            self.books.append([book_obj, n])\n",
    "\n",
    "    def delete_book(self, book_obj):\n",
    "        for loop in range(len(self.books)):\n",
    "            if self.books[loop][0] == book_obj:\n",
    "                self.books.remove([book_obj, self.books[loop][1]])\n",
    "                break\n",
    "\n",
    "    def get_total(self):\n",
    "        total = 0\n",
    "        for loop in range(len(self.books)):\n",
    "            total += self.books[loop][0].price * self.books[loop][1]\n",
    "        return total"
   ]
  },
  {
   "cell_type": "code",
   "execution_count": 62,
   "metadata": {},
   "outputs": [
    {
     "data": {
      "text/plain": [
       "[[<__main__.Book at 0x1dc4c59bb20>, 4], [<__main__.Book at 0x1dc4c59bbe0>, 2]]"
      ]
     },
     "execution_count": 62,
     "metadata": {},
     "output_type": "execute_result"
    }
   ],
   "source": [
    "cart = ShoppingCart(1)\n",
    "cart.add_book(b1, 4)\n",
    "cart.add_book(b3, 2)\n",
    "cart.books"
   ]
  },
  {
   "cell_type": "code",
   "execution_count": 63,
   "metadata": {},
   "outputs": [
    {
     "data": {
      "text/plain": [
       "1115.5"
      ]
     },
     "execution_count": 63,
     "metadata": {},
     "output_type": "execute_result"
    }
   ],
   "source": [
    "cart.get_total()"
   ]
  }
 ],
 "metadata": {
  "kernelspec": {
   "display_name": "base",
   "language": "python",
   "name": "python3"
  },
  "language_info": {
   "codemirror_mode": {
    "name": "ipython",
    "version": 3
   },
   "file_extension": ".py",
   "mimetype": "text/x-python",
   "name": "python",
   "nbconvert_exporter": "python",
   "pygments_lexer": "ipython3",
   "version": "3.9.12"
  },
  "orig_nbformat": 4
 },
 "nbformat": 4,
 "nbformat_minor": 2
}
