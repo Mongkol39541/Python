{
 "cells": [
  {
   "cell_type": "markdown",
   "metadata": {},
   "source": [
    "Before you turn this problem in, make sure everything runs as expected. First, **restart the kernel** (in the menubar, select Kernel$\\rightarrow$Restart) and then **run all cells** (in the menubar, select Cell$\\rightarrow$Run All).\n",
    "\n",
    "Make sure you fill in any place that says `YOUR CODE HERE` or \"YOUR ANSWER HERE\", as well as your name and collaborators below:"
   ]
  },
  {
   "cell_type": "code",
   "execution_count": 16,
   "metadata": {},
   "outputs": [],
   "source": [
    "NAME = \"Mongkol  Boondamnoen\"\n",
    "STUDENT_ID = \"65070186\""
   ]
  },
  {
   "cell_type": "markdown",
   "metadata": {},
   "source": [
    "---"
   ]
  },
  {
   "cell_type": "markdown",
   "metadata": {},
   "source": [
    "# String - File and Exception\n",
    "\n",
    "**Write you codes after `# YOUR CODE HERE`**\n",
    "\n",
    "Use the **provided files**\n",
    "\n",
    "<mark>**DO NOT IMPORT EXTERNAL LIBRARY**</mark>"
   ]
  },
  {
   "cell_type": "markdown",
   "metadata": {},
   "source": [
    "---\n",
    "## <mark>Execise #1 **Count Words in text file** (Total: 40 points) </mark>\n",
    "- Create a `read_and_count()` function that reads a text file to:\n",
    "    - Count the word from the text file\n",
    "    - Return the number of word\n",
    "- For example, \n",
    "    - `read_and_count('song.txt', 'green')` return `1` means `green` occurred only once"
   ]
  },
  {
   "cell_type": "code",
   "execution_count": 17,
   "metadata": {
    "deletable": false,
    "nbgrader": {
     "cell_type": "code",
     "checksum": "90c438037c257e6fb8fb0421ee1d6346",
     "grade": false,
     "grade_id": "cell-4db7be5c9fcfb010",
     "locked": false,
     "schema_version": 3,
     "solution": true,
     "task": false
    }
   },
   "outputs": [],
   "source": [
    "def read_and_count(file, word):\n",
    "    # YOUR CODE HERE\n",
    "    num = 0\n",
    "    with open(file, 'r') as myfile:\n",
    "        list_txt = myfile.read().split()\n",
    "        for txt in list_txt:\n",
    "            if txt.lower() == word:\n",
    "                num += 1\n",
    "        return num"
   ]
  },
  {
   "cell_type": "code",
   "execution_count": 18,
   "metadata": {},
   "outputs": [
    {
     "name": "stdout",
     "output_type": "stream",
     "text": [
      "1\n",
      "3\n"
     ]
    }
   ],
   "source": [
    "# TEST\n",
    "print(read_and_count('song.txt', 'green'))  # 1\n",
    "print(read_and_count('song.txt', 'you'))    # 3"
   ]
  },
  {
   "cell_type": "markdown",
   "metadata": {},
   "source": [
    "<mark>DO NOT CHANGE THE FOLLOWING LINES</mark>\n",
    "\n",
    "Automatic Grading with the following tests. The correct results will get total **40 points**"
   ]
  },
  {
   "cell_type": "code",
   "execution_count": 19,
   "metadata": {
    "deletable": false,
    "editable": false,
    "nbgrader": {
     "cell_type": "code",
     "checksum": "2cae442e0a217821341d17965ae94fcb",
     "grade": true,
     "grade_id": "cell-3b69e9135c90a845",
     "locked": true,
     "points": 10,
     "schema_version": 3,
     "solution": false,
     "task": false
    }
   },
   "outputs": [],
   "source": [
    "# check-1: 10 points\n",
    "assert(read_and_count('song.txt', 'world') == 4)"
   ]
  },
  {
   "cell_type": "code",
   "execution_count": 20,
   "metadata": {
    "deletable": false,
    "editable": false,
    "nbgrader": {
     "cell_type": "code",
     "checksum": "259e28b8afb6d95a14d8d8a8cfa91eeb",
     "grade": true,
     "grade_id": "cell-a93c1843b6e09c32",
     "locked": true,
     "points": 10,
     "schema_version": 3,
     "solution": false,
     "task": false
    }
   },
   "outputs": [],
   "source": [
    "# check-2: 10 points\n",
    "assert(read_and_count('song.txt', 'of') == 5)"
   ]
  },
  {
   "cell_type": "code",
   "execution_count": 21,
   "metadata": {
    "deletable": false,
    "editable": false,
    "nbgrader": {
     "cell_type": "code",
     "checksum": "019bf631c4529575068ad45117bf23e5",
     "grade": true,
     "grade_id": "cell-5867bf2141f75299",
     "locked": true,
     "points": 10,
     "schema_version": 3,
     "solution": false,
     "task": false
    }
   },
   "outputs": [],
   "source": [
    "# check-3: 10 points\n",
    "assert(read_and_count('song.txt', 'the') == 6)"
   ]
  },
  {
   "cell_type": "code",
   "execution_count": 22,
   "metadata": {
    "deletable": false,
    "editable": false,
    "nbgrader": {
     "cell_type": "code",
     "checksum": "08e2eb1698ae06aba4dd7fcb5396c653",
     "grade": true,
     "grade_id": "cell-15a44fd437c40429",
     "locked": true,
     "points": 10,
     "schema_version": 3,
     "solution": false,
     "task": false
    }
   },
   "outputs": [],
   "source": [
    "# check-4: 10 points\n",
    "assert(read_and_count('song.txt', 'i') == 11)"
   ]
  },
  {
   "cell_type": "markdown",
   "metadata": {},
   "source": [
    "---\n",
    "## <mark> Execise #2 **Count movie by genre and rating from csv** (Total: 60 points) </mark>\n",
    "- Creat a `read_csv()` function to read a `csv` file that contains all moveis\n",
    "    - Each movie record contains **title**, **genre**, **rating**, and others\n",
    "    - Function receives `file`, `genre`, and `rating`\n",
    "        - `file` is a `csv` file\n",
    "        - `genre` is a movie genre\n",
    "        - `rating` is a move rating\n",
    "    - Function return `3` things:\n",
    "        1) A number of all movie in a given movie `genre` that have movie's rating `>= rating`\n",
    "        2) A highest-rate movie title of all movies from 1)\n",
    "        3) A lowest-rate movie title of all movies from 1)\n",
    "    - Example, `read_csv('n_movies.csv', 'Fantasy', 7.5)` return\n",
    "        - `(185, 'Stranger Things', 'All of Us Are Dead')`\n",
    "        - `185` is a number of all movies that are in `Fantasy` genre and have movie's rating `>= rating`\n",
    "        - The **highest** rating movie from `185` movies is `Stranger Things`\n",
    "        - The **lowest** rating movie from `185` movies is `All of Us Are Dead`"
   ]
  },
  {
   "cell_type": "code",
   "execution_count": 23,
   "metadata": {
    "deletable": false,
    "nbgrader": {
     "cell_type": "code",
     "checksum": "0ea3e653e48c8887dea2c28b4bc35146",
     "grade": false,
     "grade_id": "cell-792c2518da990957",
     "locked": false,
     "schema_version": 3,
     "solution": true,
     "task": false
    }
   },
   "outputs": [],
   "source": [
    "# n_movies.csv is a dataset from Kaggle: https://www.kaggle.com/datasets/narayan63/netflix-popular-movies-dataset\n",
    "\n",
    "import csv\n",
    "def read_csv(file, genre, rating):    \n",
    "    # YOUR CODE HERE\n",
    "    num = 0\n",
    "    rat = []\n",
    "    story = []\n",
    "    with open(file, mode='r', newline='') as mycsv:\n",
    "        reader = csv.reader(mycsv)\n",
    "        for record in reader:\n",
    "            movie = record[4].split(\", \")\n",
    "            try:\n",
    "                movie.index(genre.title())\n",
    "                float(record[5])\n",
    "            except:\n",
    "                pass\n",
    "            else:\n",
    "                if float(record[5]) >= rating:\n",
    "                    rat.append(float(record[5]))\n",
    "                    story.append(record[0])\n",
    "                    num += 1\n",
    "    list_2d = [rat, story]\n",
    "    hightrat = rat.copy()\n",
    "    lowrat = rat.copy()\n",
    "    hightrat = max(hightrat)\n",
    "    lowrat = min(lowrat)\n",
    "    hightnum = list_2d[0].index(hightrat)\n",
    "    maxtxt = list_2d[1][hightnum]\n",
    "    lownum = list_2d[0].index(lowrat)\n",
    "    mintxt = list_2d[1][lownum]\n",
    "    return num, maxtxt, mintxt"
   ]
  },
  {
   "cell_type": "code",
   "execution_count": 24,
   "metadata": {},
   "outputs": [
    {
     "name": "stdout",
     "output_type": "stream",
     "text": [
      "(185, 'Stranger Things', 'All of Us Are Dead')\n",
      "(216, 'Dexter', 'The Blacklist')\n"
     ]
    }
   ],
   "source": [
    "# TEST\n",
    "print(read_csv('n_movies.csv', 'Fantasy', 7.5))\n",
    "# (185, 'Stranger Things', 'All of Us Are Dead')\n",
    "print(read_csv('n_movies.csv', 'Crime', 8.0))\n",
    "# (216, 'Dexter', 'The Blacklist')"
   ]
  },
  {
   "cell_type": "markdown",
   "metadata": {},
   "source": [
    "<mark>DO NOT CHANGE THE FOLLOWING LINES</mark>\n",
    "\n",
    "Automatic Grading with the following tests. The correct results will get total **60 points**"
   ]
  },
  {
   "cell_type": "code",
   "execution_count": 25,
   "metadata": {
    "deletable": false,
    "editable": false,
    "nbgrader": {
     "cell_type": "code",
     "checksum": "fe89b8d43e8ddbcf12257ec0c22bf677",
     "grade": true,
     "grade_id": "cell-df1b00a0172a0276",
     "locked": true,
     "points": 20,
     "schema_version": 3,
     "solution": false,
     "task": false
    }
   },
   "outputs": [],
   "source": [
    "# check-1: 20 points\n",
    "assert(read_csv('n_movies.csv', 'COMEDY', 8.2) == (293, 'BoJack Horseman', 'Gilmore Girls'))"
   ]
  },
  {
   "cell_type": "code",
   "execution_count": 26,
   "metadata": {
    "deletable": false,
    "editable": false,
    "nbgrader": {
     "cell_type": "code",
     "checksum": "86ae481f56fe58db3309aa25e2ebb6b5",
     "grade": true,
     "grade_id": "cell-93fd3122fdcc06f0",
     "locked": true,
     "points": 20,
     "schema_version": 3,
     "solution": false,
     "task": false
    }
   },
   "outputs": [],
   "source": [
    "# check-2: 20 points\n",
    "assert(read_csv('n_movies.csv', 'Thriller', 8.5) == (24, 'Breaking Bad', 'Ozark'))"
   ]
  },
  {
   "cell_type": "code",
   "execution_count": 27,
   "metadata": {
    "deletable": false,
    "editable": false,
    "nbgrader": {
     "cell_type": "code",
     "checksum": "596947f978387135e93cfd3794cff5d1",
     "grade": true,
     "grade_id": "cell-9754868adbb97389",
     "locked": true,
     "points": 20,
     "schema_version": 3,
     "solution": false,
     "task": false
    }
   },
   "outputs": [],
   "source": [
    "# check-3: 20 points\n",
    "assert(read_csv('n_movies.csv', 'biography', 8.8) == (4, 'The Last Dance', 'Narcos'))"
   ]
  }
 ],
 "metadata": {
  "kernelspec": {
   "display_name": "Python 3",
   "language": "python",
   "name": "python3"
  },
  "language_info": {
   "codemirror_mode": {
    "name": "ipython",
    "version": 3
   },
   "file_extension": ".py",
   "mimetype": "text/x-python",
   "name": "python",
   "nbconvert_exporter": "python",
   "pygments_lexer": "ipython3",
   "version": "3.7.9"
  },
  "vscode": {
   "interpreter": {
    "hash": "45a851a8e049304e8d8fc9276f397ed5699faa42a654317800ed71714fc34a6c"
   }
  }
 },
 "nbformat": 4,
 "nbformat_minor": 2
}
