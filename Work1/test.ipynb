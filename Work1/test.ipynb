{
 "cells": [
  {
   "cell_type": "code",
   "execution_count": 1,
   "metadata": {},
   "outputs": [],
   "source": [
    "import cv2\n",
    "import mediapipe as mp"
   ]
  },
  {
   "cell_type": "code",
   "execution_count": 3,
   "metadata": {},
   "outputs": [
    {
     "data": {
      "text/plain": [
       "(True,\n",
       " array([[[ 2,  1,  3],\n",
       "         [ 2,  1,  3],\n",
       "         [ 2,  1,  3],\n",
       "         ...,\n",
       "         [74, 49, 53],\n",
       "         [74, 49, 53],\n",
       "         [74, 49, 53]],\n",
       " \n",
       "        [[ 2,  1,  3],\n",
       "         [ 2,  1,  3],\n",
       "         [ 2,  1,  3],\n",
       "         ...,\n",
       "         [76, 50, 54],\n",
       "         [76, 51, 55],\n",
       "         [76, 51, 55]],\n",
       " \n",
       "        [[ 2,  1,  3],\n",
       "         [ 2,  1,  3],\n",
       "         [ 2,  1,  3],\n",
       "         ...,\n",
       "         [78, 52, 56],\n",
       "         [79, 53, 57],\n",
       "         [79, 54, 58]],\n",
       " \n",
       "        ...,\n",
       " \n",
       "        [[ 2,  1,  3],\n",
       "         [ 2,  1,  3],\n",
       "         [ 2,  1,  3],\n",
       "         ...,\n",
       "         [ 2,  2,  2],\n",
       "         [ 2,  2,  2],\n",
       "         [ 2,  2,  2]],\n",
       " \n",
       "        [[ 2,  1,  3],\n",
       "         [ 2,  1,  3],\n",
       "         [ 2,  1,  3],\n",
       "         ...,\n",
       "         [ 2,  2,  2],\n",
       "         [ 2,  2,  2],\n",
       "         [ 2,  2,  2]],\n",
       " \n",
       "        [[ 2,  1,  3],\n",
       "         [ 2,  1,  3],\n",
       "         [ 2,  1,  3],\n",
       "         ...,\n",
       "         [ 2,  2,  2],\n",
       "         [ 2,  2,  2],\n",
       "         [ 2,  2,  2]]], dtype=uint8))"
      ]
     },
     "execution_count": 3,
     "metadata": {},
     "output_type": "execute_result"
    }
   ],
   "source": [
    "webcam = cv2.VideoCapture(0)\n",
    "webcam.read()"
   ]
  },
  {
   "cell_type": "code",
   "execution_count": 4,
   "metadata": {},
   "outputs": [],
   "source": [
    "mp_hands = mp.solutions.hands\n",
    "hands = mp_hands.Hands()\n",
    "mp_draw = mp.solutions.drawing_utils"
   ]
  },
  {
   "cell_type": "code",
   "execution_count": 7,
   "metadata": {},
   "outputs": [],
   "source": [
    "while True:\n",
    "  success, image = webcam.read()\n",
    "  image_rgb = cv2.cvtColor(image, cv2.COLOR_BGR2RGB)\n",
    "  results = hands.process(image_rgb)\n",
    "\n",
    "  if results.multi_hand_landmarks:\n",
    "    for landmark in results.multi_hand_landmarks:\n",
    "      mp_draw.draw_landmarks(image, landmark, mp_hands.HAND_CONNECTIONS)\n",
    "  cv2.imshow(\"Webcam\", image)\n",
    "  cv2.waitKey(0)"
   ]
  }
 ],
 "metadata": {
  "kernelspec": {
   "display_name": "Python 3",
   "language": "python",
   "name": "python3"
  },
  "language_info": {
   "codemirror_mode": {
    "name": "ipython",
    "version": 3
   },
   "file_extension": ".py",
   "mimetype": "text/x-python",
   "name": "python",
   "nbconvert_exporter": "python",
   "pygments_lexer": "ipython3",
   "version": "3.10.5 (tags/v3.10.5:f377153, Jun  6 2022, 16:14:13) [MSC v.1929 64 bit (AMD64)]"
  },
  "orig_nbformat": 4,
  "vscode": {
   "interpreter": {
    "hash": "afb734500600fd355917ca529030176ea0ca205570884b88f2f6f7d791fd3fbe"
   }
  }
 },
 "nbformat": 4,
 "nbformat_minor": 2
}
