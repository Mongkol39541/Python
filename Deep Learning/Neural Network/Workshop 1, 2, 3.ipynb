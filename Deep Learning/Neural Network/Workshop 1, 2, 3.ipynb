{
 "cells": [
  {
   "cell_type": "code",
   "execution_count": 1,
   "metadata": {},
   "outputs": [],
   "source": [
    "import numpy as np\n",
    "\n",
    "X = [[0, 0],\n",
    "    [0, 1],\n",
    "    [1, 0],\n",
    "    [1, 1]]\n",
    "\n",
    "X_train = np.array(X)\n",
    "\n",
    "y = [0, 1, 1, 0]\n",
    "\n",
    "y_train = np.array(y)"
   ]
  },
  {
   "cell_type": "code",
   "execution_count": 2,
   "metadata": {},
   "outputs": [
    {
     "name": "stdout",
     "output_type": "stream",
     "text": [
      "-- Epoch 1\n",
      "Norm: 0.00, NNZs: 0, Bias: 0.000000, T: 4, Avg. loss: 1.000000\n",
      "Total training time: 0.00 seconds.\n",
      "-- Epoch 2\n",
      "Norm: 0.00, NNZs: 0, Bias: 0.000000, T: 8, Avg. loss: 1.000000\n",
      "Total training time: 0.00 seconds.\n",
      "-- Epoch 3\n",
      "Norm: 0.00, NNZs: 0, Bias: 0.000000, T: 12, Avg. loss: 1.000000\n",
      "Total training time: 0.00 seconds.\n",
      "-- Epoch 4\n",
      "Norm: 0.00, NNZs: 0, Bias: 0.000000, T: 16, Avg. loss: 1.000000\n",
      "Total training time: 0.00 seconds.\n",
      "-- Epoch 5\n",
      "Norm: 0.00, NNZs: 0, Bias: 0.000000, T: 20, Avg. loss: 1.000000\n",
      "Total training time: 0.00 seconds.\n",
      "-- Epoch 6\n",
      "Norm: 0.00, NNZs: 0, Bias: 0.000000, T: 24, Avg. loss: 1.000000\n",
      "Total training time: 0.00 seconds.\n",
      "Convergence after 6 epochs took 0.00 seconds\n",
      "score :  0.5\n",
      "predicted :  [0 0 0 0]\n",
      "target :  [0 1 1 0]\n"
     ]
    }
   ],
   "source": [
    "from sklearn.linear_model import Perceptron\n",
    "\n",
    "model = Perceptron(tol=1e-3, random_state=0, verbose=True)\n",
    "model.fit(X_train, y_train)\n",
    "\n",
    "print('score : ', model.score(X_train, y_train))\n",
    "print('predicted : ', model.predict(X_train))\n",
    "print('target : ', np.array(y))"
   ]
  },
  {
   "cell_type": "code",
   "execution_count": 3,
   "metadata": {},
   "outputs": [
    {
     "name": "stdout",
     "output_type": "stream",
     "text": [
      "weight [w1 w2] =  [0. 0.]\n",
      "w0 (bias) =  0.0\n"
     ]
    }
   ],
   "source": [
    "print('weight [w1 w2] = ', model.coef_[0])\n",
    "print('w0 (bias) = ', model.intercept_[0])"
   ]
  }
 ],
 "metadata": {
  "kernelspec": {
   "display_name": "Python 3.7.9 64-bit (windows store)",
   "language": "python",
   "name": "python3"
  },
  "language_info": {
   "codemirror_mode": {
    "name": "ipython",
    "version": 3
   },
   "file_extension": ".py",
   "mimetype": "text/x-python",
   "name": "python",
   "nbconvert_exporter": "python",
   "pygments_lexer": "ipython3",
   "version": "3.7.9"
  },
  "orig_nbformat": 4,
  "vscode": {
   "interpreter": {
    "hash": "822993cc2de8065dd07929654093e8c6598914b15835bcfeccbcac84530d789c"
   }
  }
 },
 "nbformat": 4,
 "nbformat_minor": 2
}
