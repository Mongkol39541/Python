{
 "cells": [
  {
   "cell_type": "code",
   "execution_count": 33,
   "metadata": {},
   "outputs": [],
   "source": [
    "import numpy as np\n",
    "import matplotlib.pyplot as plt\n",
    "import pandas as pd\n",
    "import cv2\n",
    "import mediapipe as mp"
   ]
  },
  {
   "cell_type": "code",
   "execution_count": 34,
   "metadata": {},
   "outputs": [],
   "source": [
    "mp_hands = mp.solutions.hands\n",
    "hands = mp_hands.Hands()\n",
    "mp_draw = mp.solutions.drawing_utils"
   ]
  },
  {
   "cell_type": "code",
   "execution_count": 35,
   "metadata": {},
   "outputs": [],
   "source": [
    "data_num = []\n",
    "\n",
    "for num in range(1, 10):\n",
    "    for img in range(101, 121):\n",
    "        image = cv2.imread('Indian/{0}/{1}.jpg'.format(num, img))\n",
    "        image_rgb = cv2.cvtColor(image, cv2.COLOR_BGR2RGB)\n",
    "        results = hands.process(image_rgb)\n",
    "        if results.multi_hand_landmarks:\n",
    "            for landmark in results.multi_hand_landmarks:\n",
    "                mp_draw.draw_landmarks(image, landmark, mp_hands.HAND_CONNECTIONS)\n",
    "        image = cv2.cvtColor(image, cv2.COLOR_RGB2BGR)\n",
    "        image = cv2.cvtColor(image, cv2.COLOR_RGB2GRAY)\n",
    "        data_num.append(image)"
   ]
  },
  {
   "cell_type": "code",
   "execution_count": 36,
   "metadata": {},
   "outputs": [
    {
     "name": "stdout",
     "output_type": "stream",
     "text": [
      "(180, 128, 128)\n"
     ]
    },
    {
     "data": {
      "text/plain": [
       "array([12,  9,  8, ..., 32, 31, 51], dtype=uint8)"
      ]
     },
     "execution_count": 36,
     "metadata": {},
     "output_type": "execute_result"
    }
   ],
   "source": [
    "data_num = np.array(data_num)\n",
    "print(data_num.shape)\n",
    "data_num[0].flatten()"
   ]
  },
  {
   "cell_type": "code",
   "execution_count": 37,
   "metadata": {},
   "outputs": [
    {
     "data": {
      "text/plain": [
       "(180, 16384)"
      ]
     },
     "execution_count": 37,
     "metadata": {},
     "output_type": "execute_result"
    }
   ],
   "source": [
    "arr = np.array([data_num[0].flatten().astype(\"int32\")])\n",
    "\n",
    "for data in data_num[1:]:\n",
    "    data = data.flatten().astype(\"int32\")\n",
    "    arr = np.append(arr, [data], axis=0)\n",
    "\n",
    "arr.shape"
   ]
  },
  {
   "cell_type": "code",
   "execution_count": 38,
   "metadata": {},
   "outputs": [
    {
     "data": {
      "text/plain": [
       "array([[12,  9,  8, ..., 32, 31, 51],\n",
       "       [ 9,  9,  9, ..., 32, 31, 48],\n",
       "       [11,  9, 11, ..., 33, 33, 51],\n",
       "       ...,\n",
       "       [11, 12, 12, ..., 33, 30, 51],\n",
       "       [10, 12, 12, ..., 34, 31, 49],\n",
       "       [ 9, 13, 11, ..., 32, 30, 49]])"
      ]
     },
     "execution_count": 38,
     "metadata": {},
     "output_type": "execute_result"
    }
   ],
   "source": [
    "arr"
   ]
  },
  {
   "cell_type": "code",
   "execution_count": 39,
   "metadata": {},
   "outputs": [],
   "source": [
    "data = {'label': []}\n",
    "\n",
    "for loop in range(arr.shape[1]):\n",
    "    data['pixel{0}'.format(loop + 1)] = arr.T[loop]\n",
    "\n",
    "for loop in range(arr.shape[0]):\n",
    "    data['label'].append((loop // 20) + 1)\n",
    "\n",
    "data = pd.DataFrame(data)"
   ]
  },
  {
   "cell_type": "code",
   "execution_count": 40,
   "metadata": {},
   "outputs": [],
   "source": [
    "data.to_csv(\"validation.csv\", index=False)"
   ]
  }
 ],
 "metadata": {
  "kernelspec": {
   "display_name": "Python 3",
   "language": "python",
   "name": "python3"
  },
  "language_info": {
   "codemirror_mode": {
    "name": "ipython",
    "version": 3
   },
   "file_extension": ".py",
   "mimetype": "text/x-python",
   "name": "python",
   "nbconvert_exporter": "python",
   "pygments_lexer": "ipython3",
   "version": "3.10.8 | packaged by conda-forge | (main, Nov 24 2022, 14:07:00) [MSC v.1916 64 bit (AMD64)]"
  },
  "orig_nbformat": 4,
  "vscode": {
   "interpreter": {
    "hash": "fd6d6cb290673ab90f7eabfbb5e0872757dd79fe611a96b9ca3462dfc1ba1bf5"
   }
  }
 },
 "nbformat": 4,
 "nbformat_minor": 2
}
