{
 "cells": [
  {
   "cell_type": "code",
   "execution_count": null,
   "source": [
    "import numpy as np"
   ],
   "outputs": [],
   "metadata": {}
  },
  {
   "cell_type": "code",
   "execution_count": null,
   "source": [
    "import pandas as pd\r\n",
    "\r\n",
    "List_1 = [1,2,3,4,5,6,7]\r\n",
    "Dict = {\"EP1\":1,\"EP2\":2,\"EP3\":3}\r\n",
    "s_1 = pd.Series(List_1,index=[7,6,5,4,3,2,1])\r\n",
    "s_2 = pd.Series(Dict)"
   ],
   "outputs": [],
   "metadata": {}
  },
  {
   "cell_type": "code",
   "execution_count": null,
   "source": [
    "s_1"
   ],
   "outputs": [],
   "metadata": {}
  },
  {
   "cell_type": "code",
   "execution_count": null,
   "source": [
    "s_2"
   ],
   "outputs": [],
   "metadata": {}
  },
  {
   "cell_type": "code",
   "execution_count": null,
   "source": [
    "data = {\"one\" : [100,101,102],\"two\" : [200,201]}\r\n",
    "s_3 = pd.Series(data)\r\n",
    "s_3"
   ],
   "outputs": [],
   "metadata": {}
  },
  {
   "cell_type": "code",
   "execution_count": null,
   "source": [
    "import json \r\n",
    "Open = open(\"lingmaichobcomputer.json\")\r\n",
    "Data = json.load(Open)\r\n",
    "p = pd.read_json(\"lingmaichobcomputer.json\")\r\n",
    "print(p.to_string())"
   ],
   "outputs": [],
   "metadata": {}
  },
  {
   "cell_type": "code",
   "execution_count": 13,
   "source": [
    "for DataFame in Data:\r\n",
    "    print(DataFame)\r\n",
    "    Data_1 =Data[DataFame]\r\n",
    "    Ans = pd.Series(Data_1)\r\n",
    "    print(Ans)"
   ],
   "outputs": [
    {
     "output_type": "stream",
     "name": "stdout",
     "text": [
      "Duration\n",
      "0      60\n",
      "1      60\n",
      "2      60\n",
      "3      45\n",
      "4      45\n",
      "       ..\n",
      "164    60\n",
      "165    60\n",
      "166    60\n",
      "167    75\n",
      "168    75\n",
      "Length: 169, dtype: int64\n",
      "Pulse\n",
      "0      110\n",
      "1      117\n",
      "2      103\n",
      "3      109\n",
      "4      117\n",
      "      ... \n",
      "164    105\n",
      "165    110\n",
      "166    115\n",
      "167    120\n",
      "168    125\n",
      "Length: 169, dtype: int64\n",
      "Maxpulse\n",
      "0      130\n",
      "1      145\n",
      "2      135\n",
      "3      175\n",
      "4      148\n",
      "      ... \n",
      "164    140\n",
      "165    145\n",
      "166    145\n",
      "167    150\n",
      "168    150\n",
      "Length: 169, dtype: int64\n",
      "Calories\n",
      "0      409.1\n",
      "1      479.0\n",
      "2      340.0\n",
      "3      282.4\n",
      "4      406.0\n",
      "       ...  \n",
      "164    290.8\n",
      "165    300.4\n",
      "166    310.2\n",
      "167    320.4\n",
      "168    330.4\n",
      "Length: 169, dtype: float64\n"
     ]
    }
   ],
   "metadata": {}
  },
  {
   "cell_type": "code",
   "execution_count": null,
   "source": [
    "Data_2 = Data[\"Duration\"]\r\n",
    "pd.Series(Data_2)"
   ],
   "outputs": [],
   "metadata": {}
  },
  {
   "cell_type": "code",
   "execution_count": null,
   "source": [
    "titanic = pd.read_json(\"lingmaichobcomputer.json\")"
   ],
   "outputs": [],
   "metadata": {}
  },
  {
   "cell_type": "code",
   "execution_count": null,
   "source": [
    "titanic.iloc[0:169]"
   ],
   "outputs": [],
   "metadata": {}
  },
  {
   "cell_type": "code",
   "execution_count": null,
   "source": [
    "New_data = {\r\n",
    "\"calories\": [420, 380, 390],\r\n",
    "\"duration\": [50, 40, 45]\r\n",
    "}\r\n",
    "\r\n",
    "df = pd.DataFrame(New_data)\r\n",
    "df.loc[1]"
   ],
   "outputs": [],
   "metadata": {}
  },
  {
   "cell_type": "code",
   "execution_count": null,
   "source": [
    "df[\"duration\"].loc[0]"
   ],
   "outputs": [],
   "metadata": {}
  },
  {
   "cell_type": "code",
   "execution_count": null,
   "source": [
    "data2 = {\r\n",
    "    \"coffee_shop\":[1,2,3,4,5,6,7,8],\r\n",
    "    \"7-11\":[8,9,10,11,12,13,14,15]\r\n",
    "}\r\n",
    "\r\n",
    "pd.DataFrame(data2)"
   ],
   "outputs": [],
   "metadata": {}
  },
  {
   "cell_type": "code",
   "execution_count": null,
   "source": [
    "Index = []\r\n",
    "for i in range(8):\r\n",
    "    Day = \"day\"+str(i+1)\r\n",
    "    Index.append(Day)\r\n",
    "Data2_Day = pd.DataFrame(data2,Index)\r\n",
    "Data2_Day"
   ],
   "outputs": [],
   "metadata": {}
  }
 ],
 "metadata": {
  "orig_nbformat": 4,
  "language_info": {
   "name": "python",
   "version": "3.9.7",
   "mimetype": "text/x-python",
   "codemirror_mode": {
    "name": "ipython",
    "version": 3
   },
   "pygments_lexer": "ipython3",
   "nbconvert_exporter": "python",
   "file_extension": ".py"
  },
  "kernelspec": {
   "name": "python3",
   "display_name": "Python 3.9.7 64-bit"
  },
  "interpreter": {
   "hash": "fda75b26b5b89e627ff9e941ca952371f5578bd9249dbb144398f26762006e85"
  }
 },
 "nbformat": 4,
 "nbformat_minor": 2
}