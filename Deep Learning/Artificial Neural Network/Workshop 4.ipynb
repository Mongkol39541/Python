{
 "cells": [
  {
   "cell_type": "code",
   "execution_count": 2,
   "metadata": {},
   "outputs": [
    {
     "name": "stdout",
     "output_type": "stream",
     "text": [
      "output y=0  [s=-0.5]\n",
      "output y=1  [s=0.0]\n",
      "output y=1  [s=0.0]\n",
      "output y=1  [s=0.5]\n"
     ]
    }
   ],
   "source": [
    "def and_gate(x1, x2):\n",
    "    w0 = -0.5\n",
    "    w1 = 0.5\n",
    "    w2 = 0.5\n",
    "    threshold = 0.0\n",
    "\n",
    "    s = w0 + (w1 * x1) + (w2 * x2)\n",
    "    if s >= threshold:\n",
    "        result = 1\n",
    "    else:\n",
    "        result = 0\n",
    "\n",
    "    print('output y={}  [s={}]'.format(result, s))\n",
    "\n",
    "and_gate(0, 0)\n",
    "and_gate(0, 1)\n",
    "and_gate(1, 0)\n",
    "and_gate(1, 1)"
   ]
  }
 ],
 "metadata": {
  "kernelspec": {
   "display_name": "Python 3.7.9 64-bit (windows store)",
   "language": "python",
   "name": "python3"
  },
  "language_info": {
   "codemirror_mode": {
    "name": "ipython",
    "version": 3
   },
   "file_extension": ".py",
   "mimetype": "text/x-python",
   "name": "python",
   "nbconvert_exporter": "python",
   "pygments_lexer": "ipython3",
   "version": "3.7.9"
  },
  "orig_nbformat": 4,
  "vscode": {
   "interpreter": {
    "hash": "822993cc2de8065dd07929654093e8c6598914b15835bcfeccbcac84530d789c"
   }
  }
 },
 "nbformat": 4,
 "nbformat_minor": 2
}
