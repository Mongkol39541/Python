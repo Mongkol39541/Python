{
 "cells": [
  {
   "cell_type": "markdown",
   "metadata": {},
   "source": [
    "Before you turn this problem in, make sure everything runs as expected. First, **restart the kernel** (in the menubar, select Kernel$\\rightarrow$Restart) and then **run all cells** (in the menubar, select Cell$\\rightarrow$Run All).\n",
    "\n",
    "Make sure you fill in any place that says `YOUR CODE HERE` or \"YOUR ANSWER HERE\", as well as your name and collaborators below:"
   ]
  },
  {
   "cell_type": "code",
   "execution_count": 1,
   "metadata": {},
   "outputs": [],
   "source": [
    "NAME = \"Mongkol  Boondamnoen\"\n",
    "STUDENT_ID = \"65070186\""
   ]
  },
  {
   "cell_type": "markdown",
   "metadata": {},
   "source": [
    "---"
   ]
  },
  {
   "cell_type": "markdown",
   "metadata": {},
   "source": [
    "# WEEK 08: Array Oriented with NumPy - Exercise\n",
    "\n",
    "**Write you codes after `# YOUR CODE HERE`**\n",
    "\n",
    "<mark>**DO NOT IMPORT EXTERNAL LIBRARY**</mark>"
   ]
  },
  {
   "cell_type": "markdown",
   "metadata": {},
   "source": [
    "- In **CrosswordPuzzle.pdf** is a puzzle word game\n",
    "- All 10x10 puzzle characters and all 9-solutions are given below\n",
    "- Use this puzzle words in the exercise\n",
    "- Hints: You MAY use the following techniques (not necessary)\n",
    "    - To convert from string to list of characters, try `list('abc')` and you will get `['a', 'b', 'c']`\n",
    "    - To convert from a list of characters to string, try `''.join(['a', 'b', 'c'])` and you will get `'abc'`"
   ]
  },
  {
   "cell_type": "code",
   "execution_count": 2,
   "metadata": {},
   "outputs": [],
   "source": [
    "# WORDS\n",
    "row0 = 'LAHEACOMET'\n",
    "row1 = 'IZMYSELAOB'\n",
    "row2 = 'FUFOTYRICH'\n",
    "row3 = 'EGSCRDOSUN'\n",
    "row4 = 'STAROSCAPT'\n",
    "row5 = 'AMNENOKNLO'\n",
    "row6 = 'BOAQALEHAI'\n",
    "row7 = 'MOLMUKTOND'\n",
    "row8 = 'PNZLTAMEES'\n",
    "row9 = 'WYSPACELTY'\n",
    "\n",
    "# SOLUTIONS WORDS\n",
    "sol0 = 'SPACE'\n",
    "sol1 = 'STAR'\n",
    "sol2 = 'UFO'\n",
    "sol3 = 'COMET'\n",
    "sol4 = 'SUN'\n",
    "sol5 = 'ASTRONAUT'\n",
    "sol6 = 'MOON'\n",
    "sol7 = 'ROCKET'\n",
    "sol8 = 'PLANET'"
   ]
  },
  {
   "cell_type": "markdown",
   "metadata": {},
   "source": [
    "---\n",
    "## <mark>Execise #1 (Total: 30 points) </mark>\n",
    "Create the array of puzzle-words from *CrosswordPuzzle.pdf*\n",
    "- Use the **NumPy Array** to store all 10x10 characters\n",
    "    - The result is an array that contains the characters in *CrosswordPuzzle.pdf*\n",
    "- Name the `array` as `puzzle`"
   ]
  },
  {
   "cell_type": "code",
   "execution_count": 3,
   "metadata": {
    "deletable": false,
    "nbgrader": {
     "cell_type": "code",
     "checksum": "71e85dd115193f3098f20a6c41562c61",
     "grade": false,
     "grade_id": "cell-59600047be4b741a",
     "locked": false,
     "schema_version": 3,
     "solution": true,
     "task": false
    }
   },
   "outputs": [],
   "source": [
    "# 1. Create NumPy Array: Crossword Puzzle 10x10\n",
    "import numpy as np\n",
    "\n",
    "data = np.array([row0, row1, row2, row3, row4, row5, row6, row7, row8, row9])\n",
    "data_list2D = []\n",
    "\n",
    "for txt in data:\n",
    "    data_list = []\n",
    "    for che in txt:\n",
    "        data_list.append(che)\n",
    "    data_list2D.append(data_list)\n",
    "\n",
    "puzzle = np.array(data_list2D)\n",
    "\n",
    "# YOUR CODE HERE"
   ]
  },
  {
   "cell_type": "code",
   "execution_count": 4,
   "metadata": {},
   "outputs": [
    {
     "name": "stdout",
     "output_type": "stream",
     "text": [
      "['L' 'A' 'H' 'E' 'A' 'C' 'O' 'M' 'E' 'T']\n",
      "['E' 'Y' 'O' 'C' 'R' 'E' 'Q' 'M' 'L' 'P']\n"
     ]
    }
   ],
   "source": [
    "# TEST. You should get these results\n",
    "\n",
    "puzzle.ndim             # 2 <-- the puzzle is an 2D array \n",
    "puzzle.shape            # (10, 10) <-- the puzzle has 10 rows and 10 columns\n",
    "print(puzzle[0])        # ['L' 'A' 'H' 'E' 'A' 'C' 'O' 'M' 'E' 'T'] <-- the row #0 (all columns)\n",
    "print(puzzle[:, 3])     # ['E' 'Y' 'O' 'C' 'R' 'E' 'Q' 'M' 'L' 'P'] <-- the column #3 (all rows)"
   ]
  },
  {
   "cell_type": "markdown",
   "metadata": {},
   "source": [
    "<mark>DO NOT CHANGE THE FOLLOWING LINES</mark>\n",
    "\n",
    "Automatic Grading with the following tests. The correct results will get total **30 points**"
   ]
  },
  {
   "cell_type": "code",
   "execution_count": 5,
   "metadata": {
    "deletable": false,
    "editable": false,
    "nbgrader": {
     "cell_type": "code",
     "checksum": "af77aa1af6ef1123aa4034c7094249b9",
     "grade": true,
     "grade_id": "cell-20844b16452ccaca",
     "locked": true,
     "points": 3,
     "schema_version": 3,
     "solution": false,
     "task": false
    }
   },
   "outputs": [],
   "source": [
    "# check 1: 3 points\n",
    "assert(sum(puzzle[0] == list(row0)) == 10)"
   ]
  },
  {
   "cell_type": "code",
   "execution_count": 6,
   "metadata": {
    "deletable": false,
    "editable": false,
    "nbgrader": {
     "cell_type": "code",
     "checksum": "6329f0e1678527ca3446aa5be210b2e1",
     "grade": true,
     "grade_id": "cell-3a56ae3ae65e2086",
     "locked": true,
     "points": 3,
     "schema_version": 3,
     "solution": false,
     "task": false
    }
   },
   "outputs": [],
   "source": [
    "# check 2: 3 points\n",
    "assert(sum(puzzle[1] == list(row1)) == 10)"
   ]
  },
  {
   "cell_type": "code",
   "execution_count": 7,
   "metadata": {
    "deletable": false,
    "editable": false,
    "nbgrader": {
     "cell_type": "code",
     "checksum": "a633252c0bdf55ee286819c3607ec880",
     "grade": true,
     "grade_id": "cell-bf4ad5e7688fb784",
     "locked": true,
     "points": 3,
     "schema_version": 3,
     "solution": false,
     "task": false
    }
   },
   "outputs": [],
   "source": [
    "# check 3: 3 points\n",
    "assert(sum(puzzle[2] == list(row2)) == 10)"
   ]
  },
  {
   "cell_type": "code",
   "execution_count": 8,
   "metadata": {
    "deletable": false,
    "editable": false,
    "nbgrader": {
     "cell_type": "code",
     "checksum": "e23751fbce8fad20cdf3b9512d39d8c5",
     "grade": true,
     "grade_id": "cell-b58a04b0c3803159",
     "locked": true,
     "points": 3,
     "schema_version": 3,
     "solution": false,
     "task": false
    }
   },
   "outputs": [],
   "source": [
    "# check 4: 3 points\n",
    "assert(sum(puzzle[3] == list(row3)) == 10)"
   ]
  },
  {
   "cell_type": "code",
   "execution_count": 9,
   "metadata": {
    "deletable": false,
    "editable": false,
    "nbgrader": {
     "cell_type": "code",
     "checksum": "c84159701da41fde58292b7b5f90c2f2",
     "grade": true,
     "grade_id": "cell-4caf5cf62adafbe1",
     "locked": true,
     "points": 3,
     "schema_version": 3,
     "solution": false,
     "task": false
    }
   },
   "outputs": [],
   "source": [
    "# check 5: 3 points\n",
    "assert(sum(puzzle[4] == list(row4)) == 10)"
   ]
  },
  {
   "cell_type": "code",
   "execution_count": 10,
   "metadata": {
    "deletable": false,
    "editable": false,
    "nbgrader": {
     "cell_type": "code",
     "checksum": "dcd32b79096c996cae3d1949d86c9a42",
     "grade": true,
     "grade_id": "cell-fdf2199ecb2c96dc",
     "locked": true,
     "points": 3,
     "schema_version": 3,
     "solution": false,
     "task": false
    }
   },
   "outputs": [],
   "source": [
    "# check 6: 3 points\n",
    "assert(sum(puzzle[5] == list(row5)) == 10)"
   ]
  },
  {
   "cell_type": "code",
   "execution_count": 11,
   "metadata": {
    "deletable": false,
    "editable": false,
    "nbgrader": {
     "cell_type": "code",
     "checksum": "7c1c0cb63a39b49d029a248bc1f86d8c",
     "grade": true,
     "grade_id": "cell-6f5eadfca7ac58bf",
     "locked": true,
     "points": 3,
     "schema_version": 3,
     "solution": false,
     "task": false
    }
   },
   "outputs": [],
   "source": [
    "# check 7: 3 points\n",
    "assert(sum(puzzle[6] == list(row6)) == 10)"
   ]
  },
  {
   "cell_type": "code",
   "execution_count": 12,
   "metadata": {
    "deletable": false,
    "editable": false,
    "nbgrader": {
     "cell_type": "code",
     "checksum": "e5ae08fe8a36cc52db4fbafdcf939a65",
     "grade": true,
     "grade_id": "cell-93e1145844f9c6a2",
     "locked": true,
     "points": 3,
     "schema_version": 3,
     "solution": false,
     "task": false
    }
   },
   "outputs": [],
   "source": [
    "# check 8: 3 points\n",
    "assert(sum(puzzle[7] == list(row7)) == 10)"
   ]
  },
  {
   "cell_type": "code",
   "execution_count": 13,
   "metadata": {
    "deletable": false,
    "editable": false,
    "nbgrader": {
     "cell_type": "code",
     "checksum": "46ad0a7219febfa08cc7ff591d2d1137",
     "grade": true,
     "grade_id": "cell-ee1e7339435e4653",
     "locked": true,
     "points": 3,
     "schema_version": 3,
     "solution": false,
     "task": false
    }
   },
   "outputs": [],
   "source": [
    "# check 9: 3 points\n",
    "assert(sum(puzzle[8] == list(row8)) == 10)"
   ]
  },
  {
   "cell_type": "code",
   "execution_count": 14,
   "metadata": {
    "deletable": false,
    "editable": false,
    "nbgrader": {
     "cell_type": "code",
     "checksum": "427532d5a384ff4a4a726c81d65c2f6d",
     "grade": true,
     "grade_id": "cell-a043b533c41cca79",
     "locked": true,
     "points": 3,
     "schema_version": 3,
     "solution": false,
     "task": false
    }
   },
   "outputs": [],
   "source": [
    "# check 10: 3 points\n",
    "assert(sum(puzzle[9] == list(row9)) == 10)"
   ]
  },
  {
   "cell_type": "markdown",
   "metadata": {},
   "source": [
    "---\n",
    "## <mark>Execise #2 (Total: 70 points) </mark>\n",
    "Create a `find_index()` that searches the index of the given solution (`key_word`) from the `puzzle`.\n",
    "- The `find_index()` returns four indexes\n",
    "    - `a` is the **starting index** of a **row** that contains the `key_word`\n",
    "    - `b` is the **ending index** of a **row** that contains the `key_word`\n",
    "    - `c` is the **starting index** of a **column** that contains the `key_word`\n",
    "    - `d` is the **ending index** of a **column** that contains the `key_word`\n",
    "- For example#1, if the `key_word` is `SPACE` that is a word from the `puzzle` last row (`WYSPACELTY`)\n",
    "    - The `find_index()` returns `a=9, b=10, c=2, d=7`\n",
    "    - Giving the `puzzle[a:b, c:d]` means `puzzle[9:10, 2:7]` returns `SPACE`\n",
    "        - The `SPACE` is located at `puzzle`'s row `9` and column `2:7`\n",
    "- For example#2, if the `key_word` is `ASTRONAUT` that is a word from the `puzzle` column `4`\n",
    "    - The `find_index()` returns `a=0, b=9, c=4, d=5`\n",
    "        - Giving the `puzzle[a:b, c:d]` means `puzzle[0:9, 4:5]` returns `ASTRONAUT`\n",
    "            - The `ASTRONAUT` is located at `puzzle`'s column `4` and row `0:9`"
   ]
  },
  {
   "cell_type": "code",
   "execution_count": 15,
   "metadata": {
    "deletable": false,
    "nbgrader": {
     "cell_type": "code",
     "checksum": "435daffb3b2dbed53a910aee7a6ea951",
     "grade": false,
     "grade_id": "cell-9d3217f89a689f42",
     "locked": false,
     "schema_version": 3,
     "solution": true,
     "task": false
    }
   },
   "outputs": [],
   "source": [
    "# 2. Search index of a key word\n",
    "def find_index(puzzle, key_word):\n",
    "    # YOUR CODE HERE\n",
    "    row_puzzle = np.array([row0, row1, row2, row3, row4, row5, row6, row7, row8, row9])\n",
    "    che_puzzle = puzzle.T\n",
    "    column_puzzle = []\n",
    "    che = False\n",
    "    for txt in che_puzzle:\n",
    "        text = \"\"\n",
    "        for txt_2 in txt:\n",
    "            text += txt_2\n",
    "        column_puzzle.append(text)\n",
    "    for mes_row in range(len(row_puzzle)):\n",
    "        if row_puzzle[mes_row].find(key_word) != -1:\n",
    "            a = mes_row\n",
    "            b = mes_row + 1\n",
    "            c = int(row_puzzle[mes_row].find(key_word))\n",
    "            d = c + len(key_word)\n",
    "            che = True\n",
    "            break\n",
    "    if che == False:\n",
    "        for mes_column in range(len(column_puzzle)):\n",
    "            if column_puzzle[mes_column].find(key_word) != -1:\n",
    "                a = int(column_puzzle[mes_column].find(key_word))\n",
    "                b = a + len(key_word)\n",
    "                c = mes_column\n",
    "                d = mes_column + 1\n",
    "                che = True\n",
    "                break\n",
    "    return a, b, c, d"
   ]
  },
  {
   "cell_type": "code",
   "execution_count": 16,
   "metadata": {
    "deletable": false,
    "editable": false,
    "nbgrader": {
     "cell_type": "code",
     "checksum": "d07993728e9abbe6a0a9539ddcd3a13b",
     "grade": true,
     "grade_id": "cell-15746ee0af791ab4",
     "locked": true,
     "points": 0,
     "schema_version": 3,
     "solution": false,
     "task": false
    }
   },
   "outputs": [
    {
     "name": "stdout",
     "output_type": "stream",
     "text": [
      "Keyword SPACE found in puzzle's row[9:10] and column[2:7]]\n"
     ]
    }
   ],
   "source": [
    "# TEST 1\n",
    "a, b, c, d = find_index(puzzle, sol0)       # a=9, b=10, c=2, d=7\n",
    "assert(sol0 == ''.join(puzzle[a:b, c:d].flatten()))\n",
    "print(f'Keyword {sol0} found in puzzle\\'s row[{a}:{b}] and column[{c}:{d}]]')"
   ]
  },
  {
   "cell_type": "code",
   "execution_count": 17,
   "metadata": {},
   "outputs": [
    {
     "name": "stdout",
     "output_type": "stream",
     "text": [
      "Keyword ASTRONAUT found in puzzle's row[0:9] and column[4:5]]\n"
     ]
    }
   ],
   "source": [
    "# TEST 2\n",
    "a, b, c, d = find_index(puzzle, sol5)       # a=0, b=9, c=4, d=5\n",
    "assert(sol5 == ''.join(puzzle[a:b, c:d].flatten()))\n",
    "print(f'Keyword {sol5} found in puzzle\\'s row[{a}:{b}] and column[{c}:{d}]]')"
   ]
  },
  {
   "cell_type": "markdown",
   "metadata": {},
   "source": [
    "<mark>DO NOT CHANGE THE FOLLOWING LINES</mark>\n",
    "\n",
    "Automatic Grading with the following tests. The correct results will get total **70 points**"
   ]
  },
  {
   "cell_type": "code",
   "execution_count": 18,
   "metadata": {
    "deletable": false,
    "editable": false,
    "nbgrader": {
     "cell_type": "code",
     "checksum": "e9b49ca5999e5e6911b32fc02ca994ad",
     "grade": true,
     "grade_id": "cell-5ca5be398f15f844",
     "locked": true,
     "points": 10,
     "schema_version": 3,
     "solution": false,
     "task": false
    }
   },
   "outputs": [
    {
     "name": "stdout",
     "output_type": "stream",
     "text": [
      "Keyword STAR found in puzzle's row[4:5] and column[0:4]]\n"
     ]
    }
   ],
   "source": [
    "# check-1: 10 points\n",
    "a, b, c, d = find_index(puzzle, sol1)\n",
    "assert(sol1 == ''.join(puzzle[a:b, c:d].flatten()))\n",
    "print(f'Keyword {sol1} found in puzzle\\'s row[{a}:{b}] and column[{c}:{d}]]')"
   ]
  },
  {
   "cell_type": "code",
   "execution_count": 19,
   "metadata": {
    "deletable": false,
    "editable": false,
    "nbgrader": {
     "cell_type": "code",
     "checksum": "540a8a9d57843a5f887ba60b892db63c",
     "grade": true,
     "grade_id": "cell-6ea6d6df81d29199",
     "locked": true,
     "points": 10,
     "schema_version": 3,
     "solution": false,
     "task": false
    }
   },
   "outputs": [
    {
     "name": "stdout",
     "output_type": "stream",
     "text": [
      "Keyword UFO found in puzzle's row[2:3] and column[1:4]]\n"
     ]
    }
   ],
   "source": [
    "# check-2: 10 points\n",
    "a, b, c, d = find_index(puzzle, sol2)\n",
    "assert(sol2 == ''.join(puzzle[a:b, c:d].flatten()))\n",
    "print(f'Keyword {sol2} found in puzzle\\'s row[{a}:{b}] and column[{c}:{d}]]')"
   ]
  },
  {
   "cell_type": "code",
   "execution_count": 20,
   "metadata": {
    "deletable": false,
    "editable": false,
    "nbgrader": {
     "cell_type": "code",
     "checksum": "b000d0958c62bf2625055de9b38f3664",
     "grade": true,
     "grade_id": "cell-f2ee007bee1d1018",
     "locked": true,
     "points": 10,
     "schema_version": 3,
     "solution": false,
     "task": false
    }
   },
   "outputs": [
    {
     "name": "stdout",
     "output_type": "stream",
     "text": [
      "Keyword COMET found in puzzle's row[0:1] and column[5:10]]\n"
     ]
    }
   ],
   "source": [
    "# check-3: 10 points\n",
    "a, b, c, d = find_index(puzzle, sol3)\n",
    "assert(sol3 == ''.join(puzzle[a:b, c:d].flatten()))\n",
    "print(f'Keyword {sol3} found in puzzle\\'s row[{a}:{b}] and column[{c}:{d}]]')"
   ]
  },
  {
   "cell_type": "code",
   "execution_count": 21,
   "metadata": {
    "deletable": false,
    "editable": false,
    "nbgrader": {
     "cell_type": "code",
     "checksum": "a00e2f17d6cef55181a29c8943a40978",
     "grade": true,
     "grade_id": "cell-a5042b313ff24aaa",
     "locked": true,
     "points": 10,
     "schema_version": 3,
     "solution": false,
     "task": false
    }
   },
   "outputs": [
    {
     "name": "stdout",
     "output_type": "stream",
     "text": [
      "Keyword SUN found in puzzle's row[3:4] and column[7:10]]\n"
     ]
    }
   ],
   "source": [
    "# check-4: 10 points\n",
    "a, b, c, d = find_index(puzzle, sol4)\n",
    "assert(sol4 == ''.join(puzzle[a:b, c:d].flatten()))\n",
    "print(f'Keyword {sol4} found in puzzle\\'s row[{a}:{b}] and column[{c}:{d}]]')"
   ]
  },
  {
   "cell_type": "code",
   "execution_count": 22,
   "metadata": {
    "deletable": false,
    "editable": false,
    "nbgrader": {
     "cell_type": "code",
     "checksum": "3d41b24f5853f885c6c7cfca528f003e",
     "grade": true,
     "grade_id": "cell-06b35ad376959e6d",
     "locked": true,
     "points": 10,
     "schema_version": 3,
     "solution": false,
     "task": false
    }
   },
   "outputs": [
    {
     "name": "stdout",
     "output_type": "stream",
     "text": [
      "Keyword MOON found in puzzle's row[5:9] and column[1:2]]\n"
     ]
    }
   ],
   "source": [
    "# check-5: 10 points\n",
    "a, b, c, d = find_index(puzzle, sol6)\n",
    "assert(sol6 == ''.join(puzzle[a:b, c:d].flatten()))\n",
    "print(f'Keyword {sol6} found in puzzle\\'s row[{a}:{b}] and column[{c}:{d}]]')"
   ]
  },
  {
   "cell_type": "code",
   "execution_count": 23,
   "metadata": {
    "deletable": false,
    "editable": false,
    "nbgrader": {
     "cell_type": "code",
     "checksum": "a0c0131738f99a3562f54008e906e91a",
     "grade": true,
     "grade_id": "cell-e18b4425b23a7b5d",
     "locked": true,
     "points": 10,
     "schema_version": 3,
     "solution": false,
     "task": false
    }
   },
   "outputs": [
    {
     "name": "stdout",
     "output_type": "stream",
     "text": [
      "Keyword ROCKET found in puzzle's row[2:8] and column[6:7]]\n"
     ]
    }
   ],
   "source": [
    "# check-6: 10 points\n",
    "a, b, c, d = find_index(puzzle, sol7)\n",
    "assert(sol7 == ''.join(puzzle[a:b, c:d].flatten()))\n",
    "print(f'Keyword {sol7} found in puzzle\\'s row[{a}:{b}] and column[{c}:{d}]]')"
   ]
  },
  {
   "cell_type": "code",
   "execution_count": 24,
   "metadata": {
    "deletable": false,
    "editable": false,
    "nbgrader": {
     "cell_type": "code",
     "checksum": "1df51ed0c9d847cfc839947c3aab4c62",
     "grade": true,
     "grade_id": "cell-fa7da355c6333d5a",
     "locked": true,
     "points": 10,
     "schema_version": 3,
     "solution": false,
     "task": false
    }
   },
   "outputs": [
    {
     "name": "stdout",
     "output_type": "stream",
     "text": [
      "Keyword PLANET found in puzzle's row[4:10] and column[8:9]]\n"
     ]
    }
   ],
   "source": [
    "# check-7: 10 points\n",
    "a, b, c, d = find_index(puzzle, sol8)\n",
    "assert(sol8 == ''.join(puzzle[a:b, c:d].flatten()))\n",
    "print(f'Keyword {sol8} found in puzzle\\'s row[{a}:{b}] and column[{c}:{d}]]')"
   ]
  }
 ],
 "metadata": {
  "kernelspec": {
   "display_name": "Python 3.9.12 ('base')",
   "language": "python",
   "name": "python3"
  },
  "language_info": {
   "codemirror_mode": {
    "name": "ipython",
    "version": 3
   },
   "file_extension": ".py",
   "mimetype": "text/x-python",
   "name": "python",
   "nbconvert_exporter": "python",
   "pygments_lexer": "ipython3",
   "version": "3.9.12"
  },
  "vscode": {
   "interpreter": {
    "hash": "ad2bdc8ecc057115af97d19610ffacc2b4e99fae6737bb82f5d7fb13d2f2c186"
   }
  }
 },
 "nbformat": 4,
 "nbformat_minor": 2
}
