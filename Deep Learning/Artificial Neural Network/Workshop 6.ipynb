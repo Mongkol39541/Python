{
 "cells": [
  {
   "cell_type": "code",
   "execution_count": 1,
   "metadata": {},
   "outputs": [
    {
     "name": "stdout",
     "output_type": "stream",
     "text": [
      "output y = 0    [s = -1.0]\n",
      "output y = 0    [s = -1.9]\n",
      "output y = 0    [s = -0.34999999999999987]\n",
      "output y = 1    [s = 0.20000000000000018]\n"
     ]
    }
   ],
   "source": [
    "def is_lemon(x1, x2):\n",
    "    w0 = -3.5\n",
    "    w1 = 0.2\n",
    "    w2 = 0.5\n",
    "    threshold = 0.0\n",
    "    s = w0 + (w1 * x1) + (w2 * x2)\n",
    "    if s >= threshold:\n",
    "        result = 1\n",
    "    else:\n",
    "        result = 0\n",
    "    \n",
    "    print('output y = {}    [s = {}]'.format(result, s))\n",
    "\n",
    "is_lemon(2, 4.2)\n",
    "is_lemon(3, 2)\n",
    "is_lemon(8, 3.1)\n",
    "is_lemon(8, 4.2)"
   ]
  }
 ],
 "metadata": {
  "kernelspec": {
   "display_name": "Python 3.7.9 64-bit (windows store)",
   "language": "python",
   "name": "python3"
  },
  "language_info": {
   "codemirror_mode": {
    "name": "ipython",
    "version": 3
   },
   "file_extension": ".py",
   "mimetype": "text/x-python",
   "name": "python",
   "nbconvert_exporter": "python",
   "pygments_lexer": "ipython3",
   "version": "3.7.9"
  },
  "orig_nbformat": 4,
  "vscode": {
   "interpreter": {
    "hash": "822993cc2de8065dd07929654093e8c6598914b15835bcfeccbcac84530d789c"
   }
  }
 },
 "nbformat": 4,
 "nbformat_minor": 2
}
