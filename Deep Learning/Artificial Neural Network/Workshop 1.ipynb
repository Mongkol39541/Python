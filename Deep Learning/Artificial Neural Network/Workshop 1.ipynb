{
 "cells": [
  {
   "cell_type": "code",
   "execution_count": 1,
   "metadata": {},
   "outputs": [
    {
     "data": {
      "text/plain": [
       "array([0.5])"
      ]
     },
     "execution_count": 1,
     "metadata": {},
     "output_type": "execute_result"
    }
   ],
   "source": [
    "import numpy as np\n",
    "\n",
    "w0 = -.5\n",
    "x = [[1], [1]]\n",
    "w = [.5, .5]\n",
    "\n",
    "w = np.array(w)\n",
    "x = np.array(x)\n",
    "\n",
    "s = w0 + np.dot(w, x)\n",
    "\n",
    "s"
   ]
  }
 ],
 "metadata": {
  "kernelspec": {
   "display_name": "Python 3.7.9 64-bit (windows store)",
   "language": "python",
   "name": "python3"
  },
  "language_info": {
   "codemirror_mode": {
    "name": "ipython",
    "version": 3
   },
   "file_extension": ".py",
   "mimetype": "text/x-python",
   "name": "python",
   "nbconvert_exporter": "python",
   "pygments_lexer": "ipython3",
   "version": "3.7.9"
  },
  "orig_nbformat": 4,
  "vscode": {
   "interpreter": {
    "hash": "822993cc2de8065dd07929654093e8c6598914b15835bcfeccbcac84530d789c"
   }
  }
 },
 "nbformat": 4,
 "nbformat_minor": 2
}
