{
 "cells": [
  {
   "attachments": {},
   "cell_type": "markdown",
   "metadata": {},
   "source": [
    "# Exercises 1"
   ]
  },
  {
   "cell_type": "code",
   "execution_count": 19,
   "metadata": {},
   "outputs": [],
   "source": [
    "class Triangle:\n",
    "    def __init__(self, sideLength):\n",
    "        self.sideLength = float(sideLength)\n",
    "    \n",
    "    def calArea(self):\n",
    "        return (3 ** 0.5) * 0.25 * (self.sideLength ** 2)\n",
    "\n",
    "    def calPerimeter(self):\n",
    "        return self.sideLength * 3\n",
    "\n",
    "    def __str__(self):\n",
    "        obj = Triangle(self.sideLength)\n",
    "        line1 = \"Object: Equilater triangle\" + '\\n'\n",
    "        line2 = \"Side lenght: {0} cm\".format('%.2f' % self.sideLength) + '\\n'\n",
    "        line3 = \"Area: {0} cm2\".format('%.2f' % obj.calArea()) + '\\n'\n",
    "        line4 = \"Perimeter: {0} cm\".format('%.2f' % obj.calPerimeter())\n",
    "        return line1 + line2 + line3 + line4\n",
    "\n",
    "    def __lt__(self, anoter):\n",
    "        obj = Triangle(self.sideLength)\n",
    "        if obj.calArea() < anoter.calArea():\n",
    "            return True\n",
    "        else:\n",
    "            return False"
   ]
  },
  {
   "cell_type": "code",
   "execution_count": 20,
   "metadata": {},
   "outputs": [],
   "source": [
    "obj_1 = Triangle(2)\n",
    "obj_2 = Triangle(3.45)"
   ]
  },
  {
   "cell_type": "code",
   "execution_count": 21,
   "metadata": {},
   "outputs": [
    {
     "name": "stdout",
     "output_type": "stream",
     "text": [
      "Object: Equilater triangle\n",
      "Side lenght: 2.00 cm\n",
      "Area: 1.73 cm2\n",
      "Perimeter: 6.00 cm\n",
      "------------------\n",
      "Object: Equilater triangle\n",
      "Side lenght: 3.45 cm\n",
      "Area: 5.15 cm2\n",
      "Perimeter: 10.35 cm\n",
      "------------------\n",
      "True\n"
     ]
    }
   ],
   "source": [
    "print(obj_1)\n",
    "print('------------------')\n",
    "print(obj_2)\n",
    "print('------------------')\n",
    "print(obj_2 > obj_1)"
   ]
  },
  {
   "attachments": {},
   "cell_type": "markdown",
   "metadata": {},
   "source": [
    "# Exercises 2"
   ]
  },
  {
   "cell_type": "code",
   "execution_count": 22,
   "metadata": {},
   "outputs": [],
   "source": [
    "class Rectangle:\n",
    "    def __init__(self, width, height):\n",
    "        self.width = float(width)\n",
    "        self.height = float(height)\n",
    "    \n",
    "    def calArea(self):\n",
    "        return self.width * self.height\n",
    "    \n",
    "    def calPerimeter(self):\n",
    "        return (self.width + self.height) * 2\n",
    "    \n",
    "    def __str__(self):\n",
    "        obj = Rectangle(self.width, self.height)\n",
    "        line1 = \"Object: Rectangle\" + '\\n'\n",
    "        line2 = \"Width: {0} cm\".format('%.2f' % self.width) + '\\n'\n",
    "        line3 = \"Height: {0} cm\".format('%.2f' % self.height) + '\\n'\n",
    "        line4 = \"Area: {0} cm2\".format('%.2f' % obj.calArea()) + '\\n'\n",
    "        line5 = \"Perimeter: {0} cm\".format('%.2f' % obj.calPerimeter())\n",
    "        return line1 + line2 + line3 + line4 + line5\n",
    "\n",
    "    def __lt__(self, anoter):\n",
    "        obj = Rectangle(self.width, self.height)\n",
    "        if obj.calArea() < anoter.calArea():\n",
    "            return True\n",
    "        else:\n",
    "            return False"
   ]
  },
  {
   "cell_type": "code",
   "execution_count": 23,
   "metadata": {},
   "outputs": [],
   "source": [
    "rec_1 = Rectangle(8.2, 3.5)\n",
    "rec_2 = Rectangle(6.34, 2.87)"
   ]
  },
  {
   "cell_type": "code",
   "execution_count": 24,
   "metadata": {},
   "outputs": [
    {
     "name": "stdout",
     "output_type": "stream",
     "text": [
      "Object: Rectangle\n",
      "Width: 8.20 cm\n",
      "Height: 3.50 cm\n",
      "Area: 28.70 cm2\n",
      "Perimeter: 23.40 cm\n",
      "------------------\n",
      "Object: Rectangle\n",
      "Width: 6.34 cm\n",
      "Height: 2.87 cm\n",
      "Area: 18.20 cm2\n",
      "Perimeter: 18.42 cm\n",
      "------------------\n",
      "False\n"
     ]
    }
   ],
   "source": [
    "print(rec_1)\n",
    "print('------------------')\n",
    "print(rec_2)\n",
    "print('------------------')\n",
    "print(rec_2 > rec_1)"
   ]
  },
  {
   "attachments": {},
   "cell_type": "markdown",
   "metadata": {},
   "source": [
    "# Exercises 3"
   ]
  },
  {
   "cell_type": "code",
   "execution_count": 25,
   "metadata": {},
   "outputs": [],
   "source": [
    "class Circle:\n",
    "    def __init__(self, radius):\n",
    "        self.radius = radius\n",
    "\n",
    "    def calDiameter(self):\n",
    "        return 2 * self.radius\n",
    "    \n",
    "    def calArea(self):\n",
    "        return 3.14 * self.radius ** 2\n",
    "    \n",
    "    def calPerimeter(self):\n",
    "        return 2* 3.14 * self.radius\n",
    "    \n",
    "    def __str__(self):\n",
    "        obj = Circle(self.radius)\n",
    "        line1 = \"Object: Circle\" + '\\n'\n",
    "        line2 = \"Radius: {0} cm\".format('%.2f' % self.radius) + '\\n'\n",
    "        line3 = \"Diameter: {0} cm\".format('%.2f' % obj.calDiameter()) + '\\n'\n",
    "        line4 = \"Area: {0} cm2\".format('%.2f' % obj.calArea()) + '\\n'\n",
    "        line5 = \"Perimeter: {0} cm\".format('%.2f' % obj.calPerimeter())\n",
    "        return line1 + line2 + line3 + line4 + line5\n",
    "    \n",
    "    def __lt__(self, anoter):\n",
    "        obj = Circle(self.radius)\n",
    "        if obj.calArea() < anoter.calArea():\n",
    "            return True\n",
    "        else:\n",
    "            return False"
   ]
  },
  {
   "cell_type": "code",
   "execution_count": 26,
   "metadata": {},
   "outputs": [],
   "source": [
    "cir_1 = Circle(0.45)\n",
    "cir_2 = Circle(2.64)"
   ]
  },
  {
   "cell_type": "code",
   "execution_count": 28,
   "metadata": {},
   "outputs": [
    {
     "name": "stdout",
     "output_type": "stream",
     "text": [
      "Object: Circle\n",
      "Radius: 0.45 cm\n",
      "Diameter: 0.90 cm\n",
      "Area: 0.64 cm2\n",
      "Perimeter: 2.83 cm\n",
      "------------------\n",
      "Object: Circle\n",
      "Radius: 2.64 cm\n",
      "Diameter: 5.28 cm\n",
      "Area: 21.88 cm2\n",
      "Perimeter: 16.58 cm\n",
      "------------------\n",
      "True\n"
     ]
    }
   ],
   "source": [
    "print(cir_1)\n",
    "print('------------------')\n",
    "print(cir_2)\n",
    "print('------------------')\n",
    "print(cir_2 > cir_1)"
   ]
  },
  {
   "attachments": {},
   "cell_type": "markdown",
   "metadata": {},
   "source": [
    "# Exercises 4"
   ]
  },
  {
   "cell_type": "code",
   "execution_count": 82,
   "metadata": {},
   "outputs": [],
   "source": [
    "class Television:\n",
    "    def __init__(self, model, subscription):\n",
    "        self.model = model\n",
    "        self.subscription = {3:'Channel 3', 5:'Channel 5', 7:'Channel 7', 9:'Channel 9'}\n",
    "        self.addsubscription = subscription\n",
    "        self.status = False\n",
    "        self.volume = 50\n",
    "        self.currentChannel = 3\n",
    "\n",
    "    def addSubscription(self, subscription):\n",
    "        subscription = sorted(subscription)\n",
    "        num = 10\n",
    "        for loop in subscription:\n",
    "            self.subscription.update({num:loop})\n",
    "            num += 1\n",
    "        return self.subscription\n",
    "\n",
    "    def __str__(self):\n",
    "        obj = Television(self.model, self.addsubscription)\n",
    "        ans_subscription = []\n",
    "        for loop in obj.addSubscription(self.addsubscription):\n",
    "            ans = \"{0}: {1}\".format(loop.keys(), loop.keys())\n",
    "            ans_subscription.append(ans)\n",
    "        line1 = \"Model: {0}\".format(self.model) + '\\n'\n",
    "        line2 = \"Subscription: {0}\".format(ans_subscription) + '\\n'\n",
    "        line3 = \"Status: OFF\" + '\\n'\n",
    "        return line1 + line2 + line3"
   ]
  },
  {
   "cell_type": "code",
   "execution_count": 83,
   "metadata": {},
   "outputs": [
    {
     "ename": "AttributeError",
     "evalue": "'int' object has no attribute 'keys'",
     "output_type": "error",
     "traceback": [
      "\u001b[1;31m---------------------------------------------------------------------------\u001b[0m",
      "\u001b[1;31mAttributeError\u001b[0m                            Traceback (most recent call last)",
      "\u001b[1;32mc:\\Users\\LAB203-01\\Desktop\\comrpo\\65070186.ipynb Cell 15\u001b[0m in \u001b[0;36m<cell line: 2>\u001b[1;34m()\u001b[0m\n\u001b[0;32m      <a href='vscode-notebook-cell:/c%3A/Users/LAB203-01/Desktop/comrpo/65070186.ipynb#X20sZmlsZQ%3D%3D?line=0'>1</a>\u001b[0m tv1 \u001b[39m=\u001b[39m Television(\u001b[39m'\u001b[39m\u001b[39mLG XO3QBE.DTHALLK\u001b[39m\u001b[39m'\u001b[39m, [\u001b[39m'\u001b[39m\u001b[39mYoutube\u001b[39m\u001b[39m'\u001b[39m, \u001b[39m'\u001b[39m\u001b[39mNetflix\u001b[39m\u001b[39m'\u001b[39m, \u001b[39m'\u001b[39m\u001b[39mDisney+\u001b[39m\u001b[39m'\u001b[39m, \u001b[39m'\u001b[39m\u001b[39mHBO\u001b[39m\u001b[39m'\u001b[39m, \u001b[39m'\u001b[39m\u001b[39mViu\u001b[39m\u001b[39m'\u001b[39m, \u001b[39m'\u001b[39m\u001b[39mNetflix\u001b[39m\u001b[39m'\u001b[39m])\n\u001b[1;32m----> <a href='vscode-notebook-cell:/c%3A/Users/LAB203-01/Desktop/comrpo/65070186.ipynb#X20sZmlsZQ%3D%3D?line=1'>2</a>\u001b[0m \u001b[39mprint\u001b[39;49m(tv1)\n",
      "\u001b[1;32mc:\\Users\\LAB203-01\\Desktop\\comrpo\\65070186.ipynb Cell 15\u001b[0m in \u001b[0;36mTelevision.__str__\u001b[1;34m(self)\u001b[0m\n\u001b[0;32m     <a href='vscode-notebook-cell:/c%3A/Users/LAB203-01/Desktop/comrpo/65070186.ipynb#X20sZmlsZQ%3D%3D?line=19'>20</a>\u001b[0m ans_subscription \u001b[39m=\u001b[39m []\n\u001b[0;32m     <a href='vscode-notebook-cell:/c%3A/Users/LAB203-01/Desktop/comrpo/65070186.ipynb#X20sZmlsZQ%3D%3D?line=20'>21</a>\u001b[0m \u001b[39mfor\u001b[39;00m loop \u001b[39min\u001b[39;00m obj\u001b[39m.\u001b[39maddSubscription(\u001b[39mself\u001b[39m\u001b[39m.\u001b[39maddsubscription):\n\u001b[1;32m---> <a href='vscode-notebook-cell:/c%3A/Users/LAB203-01/Desktop/comrpo/65070186.ipynb#X20sZmlsZQ%3D%3D?line=21'>22</a>\u001b[0m     ans \u001b[39m=\u001b[39m \u001b[39m\"\u001b[39m\u001b[39m{0}\u001b[39;00m\u001b[39m: \u001b[39m\u001b[39m{1}\u001b[39;00m\u001b[39m\"\u001b[39m\u001b[39m.\u001b[39mformat(loop\u001b[39m.\u001b[39;49mkeys(), loop\u001b[39m.\u001b[39mkeys())\n\u001b[0;32m     <a href='vscode-notebook-cell:/c%3A/Users/LAB203-01/Desktop/comrpo/65070186.ipynb#X20sZmlsZQ%3D%3D?line=22'>23</a>\u001b[0m     ans_subscription\u001b[39m.\u001b[39mappend(ans)\n\u001b[0;32m     <a href='vscode-notebook-cell:/c%3A/Users/LAB203-01/Desktop/comrpo/65070186.ipynb#X20sZmlsZQ%3D%3D?line=23'>24</a>\u001b[0m line1 \u001b[39m=\u001b[39m \u001b[39m\"\u001b[39m\u001b[39mModel: \u001b[39m\u001b[39m{0}\u001b[39;00m\u001b[39m\"\u001b[39m\u001b[39m.\u001b[39mformat(\u001b[39mself\u001b[39m\u001b[39m.\u001b[39mmodel) \u001b[39m+\u001b[39m \u001b[39m'\u001b[39m\u001b[39m\\n\u001b[39;00m\u001b[39m'\u001b[39m\n",
      "\u001b[1;31mAttributeError\u001b[0m: 'int' object has no attribute 'keys'"
     ]
    }
   ],
   "source": [
    "tv1 = Television('LG XO3QBE.DTHALLK', ['Youtube', 'Netflix', 'Disney+', 'HBO', 'Viu', 'Netflix'])\n",
    "print(tv1)"
   ]
  }
 ],
 "metadata": {
  "kernelspec": {
   "display_name": "base",
   "language": "python",
   "name": "python3"
  },
  "language_info": {
   "codemirror_mode": {
    "name": "ipython",
    "version": 3
   },
   "file_extension": ".py",
   "mimetype": "text/x-python",
   "name": "python",
   "nbconvert_exporter": "python",
   "pygments_lexer": "ipython3",
   "version": "3.9.12"
  },
  "orig_nbformat": 4
 },
 "nbformat": 4,
 "nbformat_minor": 2
}
